{
  "nbformat": 4,
  "nbformat_minor": 0,
  "metadata": {
    "colab": {
      "provenance": []
    },
    "kernelspec": {
      "name": "python3",
      "display_name": "Python 3"
    },
    "language_info": {
      "name": "python"
    }
  },
  "cells": [
    {
      "cell_type": "markdown",
      "source": [
        "Deep learning project aa 2023/24"
      ],
      "metadata": {
        "id": "-lP0Ty_LPOPx"
      }
    },
    {
      "cell_type": "markdown",
      "source": [
        "Libraries"
      ],
      "metadata": {
        "id": "RXCvJMNiPWPb"
      }
    },
    {
      "cell_type": "code",
      "execution_count": 1,
      "metadata": {
        "id": "czu9e1vBNszI"
      },
      "outputs": [],
      "source": [
        "import os\n",
        "import threading\n",
        "import time\n",
        "import sys\n",
        "\n",
        "import torch as th\n",
        "import torch.nn as nn\n",
        "import numpy as np\n",
        "import pandas as pd\n",
        "import tensorflow as tf\n",
        "# For the progress bar\n",
        "from tqdm import tqdm"
      ]
    },
    {
      "cell_type": "markdown",
      "source": [
        "Function that perform the onehot encoding"
      ],
      "metadata": {
        "id": "8qIn2_aoP_Om"
      }
    },
    {
      "cell_type": "code",
      "source": [
        "from google.colab import drive\n",
        "drive.mount('/content/drive')"
      ],
      "metadata": {
        "id": "heIKEImjMFni",
        "outputId": "cf4a6c28-b8f5-4887-8043-40dc785cdc61",
        "colab": {
          "base_uri": "https://localhost:8080/",
          "height": 304
        }
      },
      "execution_count": 5,
      "outputs": [
        {
          "output_type": "error",
          "ename": "ValueError",
          "evalue": "The domain policy has disabled Drive File Stream: https://support.google.com/a/answer/7496409",
          "traceback": [
            "\u001b[0;31m---------------------------------------------------------------------------\u001b[0m",
            "\u001b[0;31mValueError\u001b[0m                                Traceback (most recent call last)",
            "\u001b[0;32m<ipython-input-5-d5df0069828e>\u001b[0m in \u001b[0;36m<cell line: 2>\u001b[0;34m()\u001b[0m\n\u001b[1;32m      1\u001b[0m \u001b[0;32mfrom\u001b[0m \u001b[0mgoogle\u001b[0m\u001b[0;34m.\u001b[0m\u001b[0mcolab\u001b[0m \u001b[0;32mimport\u001b[0m \u001b[0mdrive\u001b[0m\u001b[0;34m\u001b[0m\u001b[0;34m\u001b[0m\u001b[0m\n\u001b[0;32m----> 2\u001b[0;31m \u001b[0mdrive\u001b[0m\u001b[0;34m.\u001b[0m\u001b[0mmount\u001b[0m\u001b[0;34m(\u001b[0m\u001b[0;34m'/content/drive'\u001b[0m\u001b[0;34m)\u001b[0m\u001b[0;34m\u001b[0m\u001b[0;34m\u001b[0m\u001b[0m\n\u001b[0m",
            "\u001b[0;32m/usr/local/lib/python3.10/dist-packages/google/colab/drive.py\u001b[0m in \u001b[0;36mmount\u001b[0;34m(mountpoint, force_remount, timeout_ms, readonly)\u001b[0m\n\u001b[1;32m     98\u001b[0m \u001b[0;32mdef\u001b[0m \u001b[0mmount\u001b[0m\u001b[0;34m(\u001b[0m\u001b[0mmountpoint\u001b[0m\u001b[0;34m,\u001b[0m \u001b[0mforce_remount\u001b[0m\u001b[0;34m=\u001b[0m\u001b[0;32mFalse\u001b[0m\u001b[0;34m,\u001b[0m \u001b[0mtimeout_ms\u001b[0m\u001b[0;34m=\u001b[0m\u001b[0;36m120000\u001b[0m\u001b[0;34m,\u001b[0m \u001b[0mreadonly\u001b[0m\u001b[0;34m=\u001b[0m\u001b[0;32mFalse\u001b[0m\u001b[0;34m)\u001b[0m\u001b[0;34m:\u001b[0m\u001b[0;34m\u001b[0m\u001b[0;34m\u001b[0m\u001b[0m\n\u001b[1;32m     99\u001b[0m   \u001b[0;34m\"\"\"Mount your Google Drive at the specified mountpoint path.\"\"\"\u001b[0m\u001b[0;34m\u001b[0m\u001b[0;34m\u001b[0m\u001b[0m\n\u001b[0;32m--> 100\u001b[0;31m   return _mount(\n\u001b[0m\u001b[1;32m    101\u001b[0m       \u001b[0mmountpoint\u001b[0m\u001b[0;34m,\u001b[0m\u001b[0;34m\u001b[0m\u001b[0;34m\u001b[0m\u001b[0m\n\u001b[1;32m    102\u001b[0m       \u001b[0mforce_remount\u001b[0m\u001b[0;34m=\u001b[0m\u001b[0mforce_remount\u001b[0m\u001b[0;34m,\u001b[0m\u001b[0;34m\u001b[0m\u001b[0;34m\u001b[0m\u001b[0m\n",
            "\u001b[0;32m/usr/local/lib/python3.10/dist-packages/google/colab/drive.py\u001b[0m in \u001b[0;36m_mount\u001b[0;34m(mountpoint, force_remount, timeout_ms, ephemeral, readonly)\u001b[0m\n\u001b[1;32m    288\u001b[0m       \u001b[0;31m# Now kill bash.\u001b[0m\u001b[0;34m\u001b[0m\u001b[0;34m\u001b[0m\u001b[0m\n\u001b[1;32m    289\u001b[0m       \u001b[0md\u001b[0m\u001b[0;34m.\u001b[0m\u001b[0mkill\u001b[0m\u001b[0;34m(\u001b[0m\u001b[0m_signal\u001b[0m\u001b[0;34m.\u001b[0m\u001b[0mSIGKILL\u001b[0m\u001b[0;34m)\u001b[0m\u001b[0;34m\u001b[0m\u001b[0;34m\u001b[0m\u001b[0m\n\u001b[0;32m--> 290\u001b[0;31m       raise ValueError(\n\u001b[0m\u001b[1;32m    291\u001b[0m           \u001b[0mstr\u001b[0m\u001b[0;34m(\u001b[0m\u001b[0mdomain_disabled_drivefs\u001b[0m\u001b[0;34m)\u001b[0m\u001b[0;34m\u001b[0m\u001b[0;34m\u001b[0m\u001b[0m\n\u001b[1;32m    292\u001b[0m           \u001b[0;34m+\u001b[0m \u001b[0;34m': https://support.google.com/a/answer/7496409'\u001b[0m\u001b[0;34m\u001b[0m\u001b[0;34m\u001b[0m\u001b[0m\n",
            "\u001b[0;31mValueError\u001b[0m: The domain policy has disabled Drive File Stream: https://support.google.com/a/answer/7496409"
          ]
        }
      ]
    },
    {
      "cell_type": "code",
      "source": [
        "def onehot_encoder (dataset):\n",
        "    \"\"\"\n",
        "    Function that encodes a DNA dataset into a onehot encoding dataset.\n",
        "    The dataset is a list of strings, each string is a DNA sequence.\n",
        "    The function returns a list of lists, each list is a onehot encoding of a DNA sequence.\n",
        "    \"\"\"\n",
        "    # Define the dictionary for the onehot encoding\n",
        "    onehot_dict = {'A':[1,0,0,0], 'C':[0,1,0,0], 'G':[0,0,1,0], 'T':[0,0,0,1]}\n",
        "    # Define the chunk size for the export of the data to a numpy array\n",
        "    chunk_size = 10000\n",
        "    # Initialize the onehot dataset\n",
        "    onehot_dataset = []\n",
        "    # Iterate over the dataset\n",
        "    pbar = tqdm(total=len(dataset))\n",
        "    for sequence in dataset:\n",
        "        # Initialize the onehot sequence\n",
        "        onehot_sequence = np.array([])\n",
        "        # Iterate over the sequence\n",
        "        for base in sequence:\n",
        "            # Append the onehot base\n",
        "            onehot_sequence = np.append(onehot_sequence, onehot_dict[base])\n",
        "        # Append the onehot sequence\n",
        "        onehot_dataset.append(onehot_sequence)\n",
        "        pbar.update(1)\n",
        "    # Convert the onehot dataset to a numpy array to have an arry of arrays\n",
        "    pbar.close()\n",
        "    print(\"Starting convertion to numpy array\")\n",
        "    # Convert it into a numpy array\n",
        "    onehot_dataset_numpy = np.asarray(onehot_dataset)\n",
        "    print(\"Type of onehot_dataset_numpy: \", type(onehot_dataset_numpy))\n",
        "    print(\"Shape of onehot_dataset_numpy: \", onehot_dataset_numpy.shape)\n",
        "    print(\"Onehot encoding done\")\n",
        "    return onehot_dataset_numpy"
      ],
      "metadata": {
        "id": "Jbw00zSUP9u5"
      },
      "execution_count": null,
      "outputs": []
    },
    {
      "cell_type": "markdown",
      "source": [
        "Data encoding"
      ],
      "metadata": {
        "id": "CQstKCYgQSfe"
      }
    },
    {
      "cell_type": "code",
      "source": [
        "#!- MAIN\n",
        "\n",
        "# Set the device to be used (GPU or CPU)\n",
        "device = th.device(\"cuda\" if th.cuda.is_available() else \"cpu\")\n",
        "print(\"Device: \", device)\n",
        "\n",
        "# Read the input from the cvc file\n",
        "rel_path_train = '/content/data/fullset_train.csv'\n",
        "rel_path_val = '/content/data/fullset_validation.csv'\n",
        "rel_path_test = '/content/data/fullset_test.csv'\n",
        "\n",
        "# Training Set\n",
        "\n",
        "# Read the input from the csv file\n",
        "train_csv = pd.read_csv(rel_path_train, sep=\",\")\n",
        "# Drop the NaN values\n",
        "train_csv = train_csv.dropna()\n",
        "# Describe the data\n",
        "train_csv.describe()\n",
        "\n",
        "# Get the data from the csv file\n",
        "train_data = train_csv.values\n",
        "# m = number of input samples\n",
        "m = train_data.shape[0]\n",
        "print(\"Amount of data:\",m)\n",
        "X_train = train_data[:m,1]\n",
        "Y_train = train_data[:m,2].astype(np.int32)\n",
        "\n",
        "# # Reduce the size of the dataset for testing\n",
        "# m = 100000\n",
        "# X_train = X_train[:m]\n",
        "# Y_train = Y_train[:m]\n",
        "\n",
        "# OneHot encoding for the training data\n",
        "print(\"Start onehot encoding for the training data\")\n",
        "X_train = onehot_encoder(X_train)\n",
        "\n",
        "# Convert the data to a tensor\n",
        "X_train = th.from_numpy(X_train)\n",
        "Y_train = th.tensor(Y_train)\n",
        "\n",
        "print(\"X_train shape: \", X_train.shape)\n",
        "print(\"Y_train shape: \", Y_train.shape)\n",
        "\n",
        "# Free memory\n",
        "del train_csv, train_data, m\n",
        "\n",
        "exit() # Debug -END OF ONEHOT ENCODING-\n",
        "\n",
        "# Validation Set\n",
        "\n",
        "# Read the input from the csv file\n",
        "val_csv = pd.read_csv(rel_path_val, sep=\",\")\n",
        "# Drop the NaN values\n",
        "val_csv = val_csv.dropna()\n",
        "# Describe the data\n",
        "val_csv.describe()\n",
        "\n",
        "val_data = val_csv.values\n",
        "# m = number of input samples\n",
        "m = val_data.shape[0]\n",
        "print(\"Amount of data:\",m)\n",
        "X_val = val_data[:m,1]\n",
        "Y_val = val_data[:m,2].astype(np.int32)\n",
        "\n",
        "# OneHot encoding for the validation data\n",
        "print(\"Start onehot encoding for the validation data\")\n",
        "X_val = onehot_encoder(X_val)\n",
        "\n",
        "X_val = th.from_numpy(X_val)\n",
        "Y_val = th.tensor(Y_val)\n",
        "\n",
        "print(\"X_val shape\", X_val.shape)\n",
        "print(\"Y_val shape\", Y_val.shape)\n",
        "\n",
        "# Free memory\n",
        "del val_csv, val_data, m\n",
        "\n",
        "# Test\n",
        "\n",
        "# Read the input from the csv file\n",
        "test_csv = pd.read_csv(rel_path_test, sep=\",\")\n",
        "# Drop the NaN values\n",
        "test_csv = test_csv.dropna()\n",
        "# Describe the data\n",
        "test_csv.describe()\n",
        "\n",
        "test_data = test_csv.values\n",
        "# m = number of input samples\n",
        "m = test_data.shape[0]\n",
        "print(\"Amount of data:\",m)\n",
        "X_test = test_data[:m,1]\n",
        "Y_test = test_data[:m,2].astype(np.int32)\n",
        "\n",
        "# OneHot encoding for the test data\n",
        "print(\"Start onehot encoding for the test data\")\n",
        "X_test = onehot_encoder(X_test)\n",
        "\n",
        "X_test = th.from_numpy(X_test)\n",
        "Y_test = th.tensor(Y_test)\n",
        "\n",
        "print(\"X_test shape\", X_test.shape)\n",
        "print(\"Y_test shape\", Y_test.shape)\n",
        "\n",
        "# Free memory\n",
        "del test_csv, test_data, m"
      ],
      "metadata": {
        "colab": {
          "base_uri": "https://localhost:8080/"
        },
        "id": "7gYkIfnYQRGU",
        "outputId": "443156a5-33f6-447d-f9c6-35f7b4be3aa1"
      },
      "execution_count": null,
      "outputs": [
        {
          "output_type": "stream",
          "name": "stdout",
          "text": [
            "Device:  cpu\n",
            "Amount of data: 211238\n",
            "Start onehot encoding for the training data\n"
          ]
        },
        {
          "output_type": "stream",
          "name": "stderr",
          "text": [
            "100%|██████████| 211238/211238 [04:21<00:00, 809.09it/s]\n"
          ]
        },
        {
          "output_type": "stream",
          "name": "stdout",
          "text": [
            "Starting convertion to numpy array\n",
            "Type of onehot_dataset_numpy:  <class 'numpy.ndarray'>\n",
            "Shape of onehot_dataset_numpy:  (211238, 1200)\n",
            "Onehot encoding done\n",
            "X_train shape:  torch.Size([211238, 1200])\n",
            "Y_train shape:  torch.Size([211238])\n",
            "Amount of data: 26404\n",
            "Start onehot encoding for the validation data\n"
          ]
        },
        {
          "output_type": "stream",
          "name": "stderr",
          "text": [
            "100%|██████████| 26404/26404 [00:32<00:00, 814.28it/s]\n"
          ]
        },
        {
          "output_type": "stream",
          "name": "stdout",
          "text": [
            "Starting convertion to numpy array\n",
            "Type of onehot_dataset_numpy:  <class 'numpy.ndarray'>\n",
            "Shape of onehot_dataset_numpy:  (26404, 1200)\n",
            "Onehot encoding done\n",
            "X_val shape torch.Size([26404, 1200])\n",
            "Y_val shape torch.Size([26404])\n",
            "Amount of data: 26404\n",
            "Start onehot encoding for the test data\n"
          ]
        },
        {
          "output_type": "stream",
          "name": "stderr",
          "text": [
            "100%|██████████| 26404/26404 [00:31<00:00, 830.21it/s]\n"
          ]
        },
        {
          "output_type": "stream",
          "name": "stdout",
          "text": [
            "Starting convertion to numpy array\n",
            "Type of onehot_dataset_numpy:  <class 'numpy.ndarray'>\n",
            "Shape of onehot_dataset_numpy:  (26404, 1200)\n",
            "Onehot encoding done\n",
            "X_test shape torch.Size([26404, 1200])\n",
            "Y_test shape torch.Size([26404])\n"
          ]
        }
      ]
    },
    {
      "cell_type": "markdown",
      "source": [
        "Train the model"
      ],
      "metadata": {
        "id": "HSnStN2NQbRh"
      }
    },
    {
      "cell_type": "code",
      "source": [
        "print(\"Start training the model\")\n",
        "\n",
        "# RNN\n",
        "\n",
        "# 1. Define the model\n",
        "# Hyperparameters for the model (need a vector in a k-fold validation):\n",
        "#   input_size – The number of expected features in the input x\n",
        "#   hidden_size – The number of features in the hidden state h\n",
        "#   num_layers – Number of recurrent layers. E.g., setting num_layers=2 would mean stacking two GRUs together to form a stacked GRU, with the second GRU taking in outputs of the first GRU and computing the final results. Default: 1\n",
        "#   bias – If False, then the layer does not use bias weights b_ih and b_hh. Default: True\n",
        "#   batch_first – If True, then the input and output tensors are provided as (batch, seq, feature) instead of (seq, batch, feature). Note that this does not apply to hidden or cell states. See the Inputs/Outputs sections below for details. Default: False\n",
        "#   dropout – If non-zero, introduces a Dropout layer on the outputs of each GRU layer except the last layer, with dropout probability equal to dropout. Default: 0\n",
        "#   bidirectional – If True, becomes a bidirectional GRU. Default:\n",
        "\n",
        "input_size = 4  # A, C, G, T\n",
        "hidden_size = 64  # To be defined\n",
        "output_size = 2  # We want a probabilistic value\n",
        "num_layers = 1  # Just one GRU and not n GRU stacked\n",
        "bias = True # We want to use bias\n",
        "batch_first = False # The input and output tensors are provided as (seq, batch, feature)\n",
        "dropout = 0.0 # No dropout\n",
        "bidirectional = True # We want a bidirectional GRU\n",
        "\n",
        "# INPUT: input, h_0\n",
        "# -input: tensor shape (L, H_in) where L is the sequence length and H_in is the input size.\n",
        "# -h_0: tensor shape (D*num_layers, H_out) where D is 2 for bidirectional and H_out is the hidden size.\n",
        "\n",
        "# OUTPUT: output, h_n\n",
        "# -output: tensor shape (L, D*H_out) where L is the sequence length, D is 2 for bidirectional and H_out is the hidden size.\n",
        "# -h_n: tensor shape (D*num_layers, H_out) where D is 2 for bidirectional and H_out is the hidden size.\n",
        "\n",
        "learning_rate = 0.001\n",
        "num_classes = 2\n",
        "\n",
        "model = th.nn.GRU(input_size, hidden_size, num_layers, num_classes, num_layers=num_layers, bias=bias, batch_first=batch_first, dropout=dropout, bidirectional=bidirectional, device=None, dtype=None).to(device)\n",
        "criterion = nn.CrossEntropyLoss()   #the most common loss function used for classification problems\n",
        "optimizer = th.optim.Adam(model.parameters(), lr=learning_rate)\n",
        "\n",
        "# 2. Train the model with epochs\n",
        "# for epoch in range(num_epochs):\n",
        "#     # TODO: Implement the training loop\n",
        "#     break\n",
        "\n",
        "model.train()\n",
        "# 3. Test the model using epochs\n",
        "\n",
        "print(\"End of training the model\")\n",
        "\n",
        "print(\"Start testing the model\")\n",
        "\n",
        "# 4. Evaluate the model\n",
        "predicted_values, _ = model(test_data)\n",
        "\n",
        "print(\"End of testing the model\")"
      ],
      "metadata": {
        "id": "ENKk0h2VQZiR"
      },
      "execution_count": null,
      "outputs": []
    }
  ]
}