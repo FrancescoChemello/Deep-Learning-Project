{
  "nbformat": 4,
  "nbformat_minor": 0,
  "metadata": {
    "colab": {
      "provenance": [],
      "gpuType": "T4"
    },
    "kernelspec": {
      "name": "python3",
      "display_name": "Python 3"
    },
    "language_info": {
      "name": "python"
    },
    "accelerator": "GPU"
  },
  "cells": [
    {
      "cell_type": "markdown",
      "source": [
        "**Ensemble Learning**\n",
        "- **CNN**.\n",
        "- **RNN** implemented using a *LSTM*.\n",
        "\n",
        "It can uses also a *random seed* to shuffle the data and use a different *training*, *validation* and *test* set respect to the ones used by ***ViraMiner***."
      ],
      "metadata": {
        "id": "XesKIRwki-SK"
      }
    },
    {
      "cell_type": "code",
      "execution_count": 1,
      "metadata": {
        "id": "8kfMZfDCGW1B"
      },
      "outputs": [],
      "source": [
        "\"\"\"\n",
        "Main libraries\n",
        "\"\"\"\n",
        "\n",
        "import torch as th\n",
        "import torch.nn as nn\n",
        "import torch.nn.functional as F\n",
        "from torch.utils.data import DataLoader, Dataset\n",
        "import numpy as np\n",
        "import pandas as pd\n",
        "import tensorflow as tf\n",
        "\n",
        "import random\n",
        "import gc"
      ]
    },
    {
      "cell_type": "code",
      "source": [
        "\"\"\"\n",
        "For the ensamble learning\n",
        "\"\"\"\n",
        "from sklearn.svm import SVC"
      ],
      "metadata": {
        "id": "aTJgc4Axfk7G"
      },
      "execution_count": 2,
      "outputs": []
    },
    {
      "cell_type": "code",
      "source": [
        "\"\"\"\n",
        "Only for the metrics analysis\n",
        "\"\"\"\n",
        "from sklearn.metrics import accuracy_score, precision_score, recall_score, f1_score"
      ],
      "metadata": {
        "id": "MRQnBXcPjfBL"
      },
      "execution_count": 3,
      "outputs": []
    },
    {
      "cell_type": "code",
      "source": [
        "from google.colab import drive\n",
        "drive.mount('/content/drive')"
      ],
      "metadata": {
        "colab": {
          "base_uri": "https://localhost:8080/"
        },
        "id": "1d7nDtGquLZ-",
        "outputId": "e89c03b9-40fb-4002-b3f8-8d7f12da35a7"
      },
      "execution_count": 4,
      "outputs": [
        {
          "output_type": "stream",
          "name": "stdout",
          "text": [
            "Drive already mounted at /content/drive; to attempt to forcibly remount, call drive.mount(\"/content/drive\", force_remount=True).\n"
          ]
        }
      ]
    },
    {
      "cell_type": "markdown",
      "source": [
        "The **Onehot Encoding** that transform a *DNA sequence* to a vector of zeros and ones. It is useful expectially for the **CNN**."
      ],
      "metadata": {
        "id": "V8Z62Tnwjifl"
      }
    },
    {
      "cell_type": "code",
      "source": [
        "\"\"\"\n",
        "Functions for the onehot encoding\n",
        "\"\"\"\n",
        "\n",
        "def onehot_encoder(dataset):\n",
        "    \"\"\"\n",
        "    Function that encodes a DNA dataset into a onehot encoding dataset.\n",
        "    \"\"\"\n",
        "    onehot_dataset = [dna_onehot_encoder(dna_string) for dna_string in dataset]\n",
        "    onehot_dataset_numpy = np.array(onehot_dataset)\n",
        "\n",
        "    return onehot_dataset_numpy\n",
        "\n",
        "\n",
        "def dna_onehot_encoder(dna_sequence):\n",
        "    \"\"\"\n",
        "    Function that encodes a single DNA string into a onehot encoding string.\n",
        "    \"\"\"\n",
        "    onehot_dict = {\n",
        "        'A' : [1, 0, 0, 0],\n",
        "        'C' : [0, 1, 0, 0],\n",
        "        'G' : [0, 0, 1, 0],\n",
        "        'T' : [0, 0, 0, 1]\n",
        "    }\n",
        "    encoder = [onehot_dict[nuc] for nuc in dna_sequence]\n",
        "\n",
        "    return encoder"
      ],
      "metadata": {
        "id": "UvkvwCS0jftS"
      },
      "execution_count": 5,
      "outputs": []
    },
    {
      "cell_type": "markdown",
      "source": [
        "The **CNN** model: direct from the file *CNN.ipynb* avaiable in the GitHub repository."
      ],
      "metadata": {
        "id": "9xFuLfEFkTJA"
      }
    },
    {
      "cell_type": "code",
      "source": [
        "\"\"\"\n",
        "!- CNN Model\n",
        "\"\"\"\n",
        "\n",
        "class ConvNet(nn.Module):\n",
        "    # We can use a differnet pool for each layer\n",
        "    def __init__(self):\n",
        "        super(ConvNet, self).__init__()\n",
        "\n",
        "        self.layer1 = nn.Sequential(\n",
        "            nn.Conv1d(300, 200, kernel_size=2, padding=1),\n",
        "            nn.BatchNorm1d(200),\n",
        "            nn.PReLU(),\n",
        "            nn.AvgPool1d(2),\n",
        "            nn.Dropout1d(0.45)\n",
        "        )\n",
        "\n",
        "        # I remove random connection to help the convergency\n",
        "        self.drop_out = nn.Dropout()\n",
        "\n",
        "        self.layer2 = nn.Sequential(\n",
        "            nn.Conv1d(200, 100, kernel_size=2, padding=1),\n",
        "            nn.BatchNorm1d(100),\n",
        "            nn.PReLU(),\n",
        "            nn.AvgPool1d(2),\n",
        "            nn.Dropout1d(0.45)\n",
        "        )\n",
        "\n",
        "        # I remove random connection to help the convergency\n",
        "        self.drop_out = nn.Dropout()\n",
        "\n",
        "        self.layer3 = nn.Sequential(\n",
        "            nn.Conv1d(100, 75, kernel_size=2, padding=1),\n",
        "            nn.BatchNorm1d(75),\n",
        "            nn.PReLU(),\n",
        "            nn.MaxPool1d(2),\n",
        "            nn.Dropout1d(0.3)\n",
        "        )\n",
        "\n",
        "        self.layer4 = nn.Sequential(\n",
        "            nn.Conv1d(75, 50, kernel_size = 2, padding = 1),\n",
        "            nn.BatchNorm1d(50),\n",
        "            nn.PReLU(),\n",
        "            nn.MaxPool1d(2),\n",
        "            nn.Dropout(0.3)\n",
        "        )\n",
        "\n",
        "\n",
        "        self.layer5 = nn.Sequential(\n",
        "            nn.Conv1d(50, 32, kernel_size=2, padding=1),\n",
        "            nn.BatchNorm1d(32),\n",
        "            nn.PReLU(),\n",
        "            nn.MaxPool1d(2),\n",
        "            nn.Dropout1d(0.3)\n",
        "        )\n",
        "\n",
        "        self.linear1 = nn.Linear(32, 128)\n",
        "        self.linear2 = nn.Linear(128, 2)\n",
        "\n",
        "    def forward(self, x):\n",
        "        x = self.layer1(x)\n",
        "        # print(\"Layer 1: \", x.shape)\n",
        "        x = self.layer2(x)\n",
        "        # print(\"Layer 2: \", x.shape)\n",
        "        x = self.layer3(x)\n",
        "        # print(\"Layer 3: \", x.shape)\n",
        "        x = self.layer4(x)\n",
        "        # print(\"Layer 4: \", x.shape)\n",
        "        x = self.layer5(x)\n",
        "        # print(\"Layer 5: \", x.shape)\n",
        "        # Flatten the output for the linear layer\n",
        "        x = x.view(x.size(0), -1)\n",
        "        x = self.linear1(x)\n",
        "        x = self.linear2(x)\n",
        "        # print(\"Linear: \", x.shape)\n",
        "        return x"
      ],
      "metadata": {
        "id": "u-4GD7XkkRiZ"
      },
      "execution_count": 6,
      "outputs": []
    },
    {
      "cell_type": "markdown",
      "source": [
        "The **RNN** model: direct from the file *LSTM.ipynb* avaiable in the GitHub repository. We choose the *LSTM* over the *GRU* because it obtained an **higher** precision on the dataset and also is **less** computationally demanding."
      ],
      "metadata": {
        "id": "Xd0t15Gjke_F"
      }
    },
    {
      "cell_type": "code",
      "source": [
        "class LSTM_Net (nn.Module):\n",
        "    def __init__ (self):\n",
        "        super(LSTM_Net, self).__init__()\n",
        "        self.conv1 = nn.Conv1d(in_channels=4, out_channels=32, kernel_size=3)\n",
        "        self.conv2 = nn.Conv1d(in_channels=32, out_channels=64, kernel_size=3)\n",
        "        self.conv3 = nn.Conv1d(in_channels=64, out_channels=128, kernel_size=3)\n",
        "        self.pool = nn.MaxPool1d(kernel_size=2)\n",
        "\n",
        "        self.lstm = nn.LSTM(input_size=128, hidden_size=128, num_layers=2, batch_first=True, dropout=0.5)\n",
        "\n",
        "        self.fc1 = nn.Linear(128, 256)\n",
        "        self.fc2 = nn.Linear(256, 2)\n",
        "\n",
        "    def forward(self, x):\n",
        "        x = x.permute(0, 2, 1)\n",
        "        x = self.pool(F.relu(self.conv1(x)))\n",
        "        x = self.pool(F.relu(self.conv2(x)))\n",
        "        x = self.pool(F.relu(self.conv3(x)))\n",
        "\n",
        "        x = x.permute(0, 2, 1)\n",
        "        x, _ = self.lstm(x)\n",
        "\n",
        "        x = x[:, -1, :]\n",
        "        x = x.contiguous().view(x.size(0), -1)\n",
        "        x = F.relu(self.fc1(x))\n",
        "        x = self.fc2(x)\n",
        "\n",
        "        return x"
      ],
      "metadata": {
        "id": "CFVonbFAkd7f"
      },
      "execution_count": 7,
      "outputs": []
    },
    {
      "cell_type": "markdown",
      "source": [
        "**MAIN**"
      ],
      "metadata": {
        "id": "gOdTxRjflNbX"
      }
    },
    {
      "cell_type": "markdown",
      "source": [
        "Training phase"
      ],
      "metadata": {
        "id": "uOcE4IfZlXCZ"
      }
    },
    {
      "cell_type": "code",
      "source": [
        "\"\"\"\n",
        "!- MAIN\n",
        "\"\"\"\n",
        "\n",
        "# Set the device to be used (GPU or CPU)\n",
        "device = th.device(\"cuda\" if th.cuda.is_available() else \"cpu\")\n",
        "print(\"Device: \", device)\n",
        "\n",
        "# Read the input from the cvc file\n",
        "\"\"\"\n",
        "If runs in local machine:\n",
        "\n",
        "data_dir = os.path.abspath(os.path.join(os.getcwd(), 'data'))\n",
        "train_data_path = os.path.join(data_dir, 'fullset_train.csv')\n",
        "val_data_path = os.path.join(data_dir, 'fullset_validation.csv')\n",
        "test_data_path = os.path.join(data_dir, 'fullset_test.csv')\n",
        "\"\"\"\n",
        "\n",
        "\"\"\"\n",
        "If runs in Google Drive\n",
        "\n",
        "rel_path_train = '/content/drive/MyDrive/Colab Notebooks/fullset_train.csv'\n",
        "rel_path_val = '/content/drive/MyDrive/Colab Notebooks/fullset_validation.csv'\n",
        "rel_path_test = '/content/drive/MyDrive/Colab Notebooks/fullset_test.csv'\n",
        "\"\"\"\n",
        "\n",
        "\"\"\"\n",
        "If runs on Colab\n",
        "\n",
        "rel_path_train = '/content/fullset_train.csv'\n",
        "rel_path_val = '/content/fullset_validation.csv'\n",
        "rel_path_test = '/content/fullset_test.csv'\n",
        "\"\"\"\n",
        "\n",
        "# Paste here your path to the datasets\n",
        "rel_path_train = '/content/drive/MyDrive/Colab Notebooks/fullset_train.csv'\n",
        "rel_path_val = '/content/drive/MyDrive/Colab Notebooks/fullset_validation.csv'\n",
        "rel_path_test = '/content/drive/MyDrive/Colab Notebooks/fullset_test.csv'\n",
        "\n",
        "# Training Set\n",
        "\n",
        "# Read the input from the csv file\n",
        "train_csv = pd.read_csv(rel_path_train, sep=\",\")\n",
        "# Drop the NaN values\n",
        "train_csv = train_csv.dropna()\n",
        "# Describe the data\n",
        "print(train_csv.describe())\n",
        "\n",
        "# Get the data from the csv file\n",
        "train_data = train_csv.values\n",
        "# m = number of input samples\n",
        "m = train_data.shape[0]\n",
        "\n",
        "X_train = train_data[:m,1]\n",
        "Y_train = train_data[:m,2].astype(np.int32)\n",
        "\n",
        "# OneHot encoding for the training data\n",
        "print(\"Start onehot encoding for the training data\")\n",
        "X_train = onehot_encoder(X_train)\n",
        "\n",
        "# Convert the data to a tensor\n",
        "X_train = th.from_numpy(X_train).to(device)\n",
        "Y_train = th.tensor(Y_train).to(device)\n",
        "\n",
        "print(\"X_train shape: \", X_train.shape)\n",
        "print(\"Y_train shape: \", Y_train.shape)\n",
        "\n",
        "# Free memory\n",
        "del train_csv, train_data, m\n",
        "th.cuda.empty_cache()\n",
        "\n",
        "# Validation Set\n",
        "\n",
        "# Read the input from the csv file\n",
        "val_csv = pd.read_csv(rel_path_val, sep=\",\")\n",
        "# Drop the NaN values\n",
        "val_csv = val_csv.dropna()\n",
        "# Describe the data\n",
        "print(val_csv.describe())\n",
        "\n",
        "val_data = val_csv.values\n",
        "# m = number of input samples\n",
        "m = val_data.shape[0]\n",
        "\n",
        "X_val = val_data[:m,1]\n",
        "Y_val = val_data[:m,2].astype(np.int32)\n",
        "\n",
        "# OneHot encoding for the validation data\n",
        "print(\"Start onehot encoding for the validation data\")\n",
        "X_val = onehot_encoder(X_val)\n",
        "\n",
        "X_val = th.from_numpy(X_val).to(device)\n",
        "Y_val = th.tensor(Y_val).to(device)\n",
        "\n",
        "print(\"X_val shape\", X_val.shape)\n",
        "print(\"Y_val shape\", Y_val.shape)\n",
        "\n",
        "# Free memory\n",
        "del val_csv, val_data, m\n",
        "th.cuda.empty_cache()\n",
        "\n",
        "# Test\n",
        "\n",
        "# Read the input from the csv file\n",
        "test_csv = pd.read_csv(rel_path_test, sep=\",\")\n",
        "# Drop the NaN values\n",
        "test_csv = test_csv.dropna()\n",
        "# Describe the data\n",
        "print(test_csv.describe())\n",
        "\n",
        "test_data = test_csv.values\n",
        "# m = number of input samples\n",
        "m = test_data.shape[0]\n",
        "\n",
        "X_test = test_data[:m,1]\n",
        "Y_test = test_data[:m,2].astype(np.int32)\n",
        "\n",
        "# OneHot encoding for the test data\n",
        "print(\"Start onehot encoding for the test data\")\n",
        "X_test = onehot_encoder(X_test)\n",
        "\n",
        "X_test = th.from_numpy(X_test).to(device)\n",
        "Y_test = th.tensor(Y_test).to(device)\n",
        "\n",
        "print(\"X_test shape\", X_test.shape)\n",
        "print(\"Y_test shape\", Y_test.shape)\n",
        "\n",
        "# Free memory\n",
        "del test_csv, test_data, m\n",
        "th.cuda.empty_cache()"
      ],
      "metadata": {
        "id": "4TJX4a7QlZB6",
        "colab": {
          "base_uri": "https://localhost:8080/"
        },
        "outputId": "982150e8-b2e0-46a4-9fa9-75d0bf1013d2"
      },
      "execution_count": 8,
      "outputs": [
        {
          "output_type": "stream",
          "name": "stdout",
          "text": [
            "Device:  cuda\n",
            "                   0\n",
            "count  211238.000000\n",
            "mean        0.021142\n",
            "std         0.143858\n",
            "min         0.000000\n",
            "25%         0.000000\n",
            "50%         0.000000\n",
            "75%         0.000000\n",
            "max         1.000000\n",
            "Start onehot encoding for the training data\n",
            "X_train shape:  torch.Size([211238, 300, 4])\n",
            "Y_train shape:  torch.Size([211238])\n",
            "                  0\n",
            "count  26404.000000\n",
            "mean       0.020224\n",
            "std        0.140769\n",
            "min        0.000000\n",
            "25%        0.000000\n",
            "50%        0.000000\n",
            "75%        0.000000\n",
            "max        1.000000\n",
            "Start onehot encoding for the validation data\n",
            "X_val shape torch.Size([26404, 300, 4])\n",
            "Y_val shape torch.Size([26404])\n",
            "                  0\n",
            "count  26404.000000\n",
            "mean       0.020868\n",
            "std        0.142945\n",
            "min        0.000000\n",
            "25%        0.000000\n",
            "50%        0.000000\n",
            "75%        0.000000\n",
            "max        1.000000\n",
            "Start onehot encoding for the test data\n",
            "X_test shape torch.Size([26404, 300, 4])\n",
            "Y_test shape torch.Size([26404])\n"
          ]
        }
      ]
    },
    {
      "cell_type": "markdown",
      "source": [
        "**Shuffle of the data** *(optional)* using a random seed."
      ],
      "metadata": {
        "id": "pyFnowCTl6p9"
      }
    },
    {
      "cell_type": "code",
      "source": [
        "\"\"\"\n",
        "I merge the three tensor array to a big one and then, after a shuffle, I split the data into:\n",
        "  - Training: 211238 data\n",
        "  - Validation: 26404 data\n",
        "  - Test: 26404 data\n",
        "\n",
        "  Random seed: 47 (the most used)\n",
        "\"\"\"\n",
        "\n",
        "# Merge the arrays\n",
        "\n",
        "print(\"Shape of X_train: \", X_train.shape)\n",
        "print(\"Shape of X_val: \", X_val.shape)\n",
        "print(\"Shape of X_test: \", X_test.shape)\n",
        "\n",
        "X_data = th.concat((X_train, X_val), axis = 0).to(device)\n",
        "X_data = th.concat((X_data, X_test), axis = 0).to(device)\n",
        "\n",
        "print(\"Shape of data: \", X_data.shape)\n",
        "\n",
        "# Free memory\n",
        "del X_train, X_val, X_test\n",
        "gc.collect()\n",
        "th.cuda.empty_cache()\n",
        "\n",
        "print(\"Shape of Y_train: \", Y_train.shape)\n",
        "print(\"Shape of Y_val: \", Y_val.shape)\n",
        "print(\"Shape of Y_test: \", Y_test.shape)\n",
        "\n",
        "Y_data = th.concat((Y_train, Y_val), axis = 0).to(device)\n",
        "Y_data = th.concat((Y_data, Y_test), axis = 0).to(device)\n",
        "\n",
        "print(\"Shape of data: \", Y_data.shape)\n",
        "\n",
        "# Free memory\n",
        "del Y_train, Y_val, Y_test\n",
        "gc.collect()\n",
        "th.cuda.empty_cache()\n",
        "\n",
        "# Random Seed\n",
        "random_seed = 47\n",
        "th.manual_seed(random_seed)\n",
        "\n",
        "X_index_shuffle = th.randperm(X_data.size(0))\n",
        "X_data_shuffled = X_data[X_index_shuffle]\n",
        "\n",
        "Y_index_shuffle = th.randperm(Y_data.size(0))\n",
        "Y_data_shuffled = Y_data[Y_index_shuffle]\n",
        "\n",
        "print(\"X_data_shuffled shape: \", X_data_shuffled.shape)\n",
        "print(\"Y_data_shuffled shape: \", Y_data_shuffled.shape)\n",
        "\n",
        "# Split data into Training, Validation and Test\n",
        "\n",
        "X_train = X_data_shuffled[:211238].cpu()\n",
        "Y_train = Y_data_shuffled[:211238].cpu()\n",
        "print(\"X_train shape: \", X_train.shape)\n",
        "print(\"Y_train shape: \", Y_train.shape)\n",
        "\n",
        "X_val = X_data_shuffled[211238:237642].cpu()\n",
        "Y_val = Y_data_shuffled[211238:237642].cpu()\n",
        "print(\"X_val shape: \", X_val.shape)\n",
        "print(\"Y_val shape: \", Y_val.shape)\n",
        "\n",
        "X_test = X_data_shuffled[237642:].cpu()\n",
        "Y_test = Y_data_shuffled[237642:].cpu()\n",
        "print(\"X_test shape: \", X_test.shape)\n",
        "print(\"Y_test shape: \", Y_test.shape)"
      ],
      "metadata": {
        "id": "j2XRhmhll3qP",
        "colab": {
          "base_uri": "https://localhost:8080/"
        },
        "outputId": "83a2e93a-ecfd-4b9b-eede-0e76869cd7bf"
      },
      "execution_count": 9,
      "outputs": [
        {
          "output_type": "stream",
          "name": "stdout",
          "text": [
            "Shape of X_train:  torch.Size([211238, 300, 4])\n",
            "Shape of X_val:  torch.Size([26404, 300, 4])\n",
            "Shape of X_test:  torch.Size([26404, 300, 4])\n",
            "Shape of data:  torch.Size([264046, 300, 4])\n",
            "Shape of Y_train:  torch.Size([211238])\n",
            "Shape of Y_val:  torch.Size([26404])\n",
            "Shape of Y_test:  torch.Size([26404])\n",
            "Shape of data:  torch.Size([264046])\n",
            "X_data_shuffled shape:  torch.Size([264046, 300, 4])\n",
            "Y_data_shuffled shape:  torch.Size([264046])\n",
            "X_train shape:  torch.Size([211238, 300, 4])\n",
            "Y_train shape:  torch.Size([211238])\n",
            "X_val shape:  torch.Size([26404, 300, 4])\n",
            "Y_val shape:  torch.Size([26404])\n",
            "X_test shape:  torch.Size([26404, 300, 4])\n",
            "Y_test shape:  torch.Size([26404])\n"
          ]
        }
      ]
    },
    {
      "cell_type": "code",
      "source": [
        "\"\"\"\n",
        "Class to create a Data Loader with X label and Y label together\n",
        "\"\"\"\n",
        "class CreateDataset(Dataset):\n",
        "    def __init__(self, data, labels):\n",
        "        self.data = data\n",
        "        self.labels = labels\n",
        "\n",
        "    def __len__(self):\n",
        "        return len(self.data)\n",
        "\n",
        "    def __getitem__(self, idx):\n",
        "        data_point = self.data[idx]\n",
        "        label = self.labels[idx]\n",
        "        return data_point, label\n",
        "\n",
        "# Create the Dataset\n",
        "train_dataset = CreateDataset(X_train, Y_train)\n",
        "val_dataset = CreateDataset(X_val, Y_val)\n",
        "test_dataset = CreateDataset(X_test, Y_test)\n",
        "\n",
        "# Batch size\n",
        "batch_dim = 5000\n",
        "\n",
        "# Create the Data Loader\n",
        "train_loader = DataLoader(train_dataset, batch_size=batch_dim, shuffle=True)\n",
        "val_loader = DataLoader(val_dataset, batch_size=batch_dim, shuffle=True)\n",
        "test_loader = DataLoader(test_dataset, batch_size=batch_dim, shuffle=True)\n",
        "\n",
        "# Free memory\n",
        "del X_train, X_val, Y_val, X_test\n",
        "gc.collect()\n",
        "th.cuda.empty_cache()"
      ],
      "metadata": {
        "id": "nfGNRl3pxyO3"
      },
      "execution_count": 10,
      "outputs": []
    },
    {
      "cell_type": "markdown",
      "source": [
        "*Train* of the **CNN** using the *Validation* set to check the performance."
      ],
      "metadata": {
        "id": "YsILBtnjmSD4"
      }
    },
    {
      "cell_type": "code",
      "source": [
        "print(\"Start training the CNN\")\n",
        "\n",
        "model_CNN = ConvNet().to(device)\n",
        "\n",
        "# Loss and optimizer\n",
        "criterion = nn.CrossEntropyLoss()\n",
        "optimizer = th.optim.AdamW(model_CNN.parameters(), lr=0.001)\n",
        "scheduler = th.optim.lr_scheduler.ReduceLROnPlateau(optimizer, 'min', patience=3, verbose=True)\n",
        "\n",
        "# Early stopping parameters\n",
        "patience = 3  # CHECK THE VALUE!!\n",
        "best_val_loss = float('inf')\n",
        "counter = 0\n",
        "\n",
        "# Training the model\n",
        "num_epochs = 100  # Hope to reach convergence before 100 epoches\n",
        "train_loss_CNN, val_loss_CNN = [], []\n",
        "\n",
        "for epoch in range(num_epochs):\n",
        "    model_CNN.train()\n",
        "    running_loss = 0.0\n",
        "    i = 0\n",
        "    for X_batch, Y_batch in train_loader:\n",
        "        X_batch = X_batch.float()\n",
        "        Y_batch = Y_batch.long()\n",
        "\n",
        "        # Forward pass\n",
        "        outputs = model_CNN(X_batch.to(device))\n",
        "        loss = criterion(outputs, Y_batch.to(device))\n",
        "\n",
        "        # Backward pass and optimization\n",
        "        optimizer.zero_grad()\n",
        "        loss.backward()\n",
        "        optimizer.step()\n",
        "\n",
        "        running_loss += loss.item()\n",
        "        i += 1\n",
        "\n",
        "        # Free memory\n",
        "        del X_batch, Y_batch\n",
        "        th.cuda.empty_cache()\n",
        "\n",
        "    # Validation the model\n",
        "    model_CNN.eval()\n",
        "    val_loss = 0.0\n",
        "    j = 0\n",
        "    with th.no_grad():\n",
        "        for X_batch, Y_batch in val_loader:\n",
        "            X_batch = X_batch.float()\n",
        "            Y_batch = Y_batch.long()\n",
        "\n",
        "            outputs = model_CNN(X_batch.to(device))\n",
        "            loss = criterion(outputs, Y_batch.to(device))\n",
        "            scheduler.step(val_loss)\n",
        "\n",
        "            val_loss += loss.item()\n",
        "            j += 1\n",
        "\n",
        "            # Free memory\n",
        "            del X_batch, Y_batch\n",
        "            th.cuda.empty_cache()\n",
        "\n",
        "    # Losses\n",
        "    running_loss = running_loss/i\n",
        "    val_loss = val_loss/j\n",
        "\n",
        "    print(f'Epoch [{epoch+1}/{num_epochs}], Train Loss: {running_loss:.4f}, Val Loss: {val_loss:.4f}')\n",
        "\n",
        "    # Check for early stopping\n",
        "    if val_loss <= best_val_loss:\n",
        "        best_val_loss = val_loss\n",
        "        counter = 0\n",
        "    else:\n",
        "        counter += 1\n",
        "        if counter >= patience:\n",
        "            print(f\"Early stopping at epoch {epoch+1}\")\n",
        "            break\n",
        "\n",
        "print(\"End training the CNN\")\n",
        "\n",
        "# Free memory\n",
        "del i, j, running_loss, val_loss\n",
        "gc.collect()\n",
        "th.cuda.empty_cache()"
      ],
      "metadata": {
        "id": "7SC620P4mZ92",
        "colab": {
          "base_uri": "https://localhost:8080/"
        },
        "outputId": "f67662d7-af2a-423a-ba05-f5bb7da7fb05"
      },
      "execution_count": 11,
      "outputs": [
        {
          "output_type": "stream",
          "name": "stdout",
          "text": [
            "Start training the CNN\n"
          ]
        },
        {
          "output_type": "stream",
          "name": "stderr",
          "text": [
            "/usr/local/lib/python3.10/dist-packages/torch/optim/lr_scheduler.py:28: UserWarning: The verbose parameter is deprecated. Please use get_last_lr() to access the learning rate.\n",
            "  warnings.warn(\"The verbose parameter is deprecated. Please use get_last_lr() \"\n",
            "/usr/local/lib/python3.10/dist-packages/torch/nn/modules/conv.py:306: UserWarning: Plan failed with a cudnnException: CUDNN_BACKEND_EXECUTION_PLAN_DESCRIPTOR: cudnnFinalize Descriptor Failed cudnn_status: CUDNN_STATUS_NOT_SUPPORTED (Triggered internally at ../aten/src/ATen/native/cudnn/Conv_v8.cpp:919.)\n",
            "  return F.conv1d(input, weight, bias, self.stride,\n",
            "/usr/local/lib/python3.10/dist-packages/torch/autograd/graph.py:744: UserWarning: Plan failed with a cudnnException: CUDNN_BACKEND_EXECUTION_PLAN_DESCRIPTOR: cudnnFinalize Descriptor Failed cudnn_status: CUDNN_STATUS_NOT_SUPPORTED (Triggered internally at ../aten/src/ATen/native/cudnn/Conv_v8.cpp:919.)\n",
            "  return Variable._execution_engine.run_backward(  # Calls into the C++ engine to run the backward pass\n"
          ]
        },
        {
          "output_type": "stream",
          "name": "stdout",
          "text": [
            "Epoch [1/100], Train Loss: 0.1961, Val Loss: 0.1095\n",
            "Epoch [2/100], Train Loss: 0.1101, Val Loss: 0.1085\n",
            "Epoch [3/100], Train Loss: 0.1094, Val Loss: 0.1051\n",
            "Epoch [4/100], Train Loss: 0.1094, Val Loss: 0.1076\n",
            "Epoch [5/100], Train Loss: 0.1091, Val Loss: 0.1060\n",
            "Epoch [6/100], Train Loss: 0.1084, Val Loss: 0.1060\n",
            "Early stopping at epoch 6\n",
            "End training the CNN\n"
          ]
        }
      ]
    },
    {
      "cell_type": "markdown",
      "source": [
        "**(OPTIONAL):** *Test* results for the **CNN**."
      ],
      "metadata": {
        "id": "aL4g50f6ocxk"
      }
    },
    {
      "cell_type": "code",
      "source": [
        "print(\"Start testing the CNN\")\n",
        "\n",
        "# Model ready for the evaluation\n",
        "model_CNN.eval()\n",
        "\n",
        "# Arrays to save the results\n",
        "all_preds = []\n",
        "all_labels = []\n",
        "\n",
        "# Testing the model\n",
        "with th.no_grad():\n",
        "    for X_batch, Y_batch in test_loader:\n",
        "        X_batch = X_batch.to(device).float()\n",
        "        Y_batch = Y_batch.to(device).long()\n",
        "\n",
        "        outputs = model_CNN(X_batch)\n",
        "        _, predicted = th.max(outputs, 1)\n",
        "\n",
        "        all_preds.extend(predicted.cpu().numpy())\n",
        "        all_labels.extend(Y_batch.cpu().numpy())\n",
        "\n",
        "        # Free memory\n",
        "        del X_batch, Y_batch\n",
        "        th.cuda.empty_cache()\n",
        "\n",
        "# Convert the tensor to use scikit learn metrics\n",
        "y_true_CNN = all_labels\n",
        "y_pred_CNN = all_preds\n",
        "\n",
        "# Metrics\n",
        "accuracy_CNN = accuracy_score(y_true_CNN, y_pred_CNN)\n",
        "precision_CNN = precision_score(y_true_CNN, y_pred_CNN, average='weighted', zero_division=0)\n",
        "recall_CNN = recall_score(y_true_CNN, y_pred_CNN, average='weighted')\n",
        "f1_CNN = f1_score(y_true_CNN, y_pred_CNN, average='weighted')\n",
        "\n",
        "print(f'Accuracy: {accuracy_CNN:.6f}')\n",
        "print(f'Precision: {precision_CNN:.6f}')\n",
        "print(f'Recall: {recall_CNN:.6f}')\n",
        "print(f'F1-score: {f1_CNN:.6f}')\n",
        "\n",
        "print(\"End testing the CNN\")\n",
        "\n",
        "# Free memory\n",
        "del all_labels, all_preds, y_true_CNN, y_pred_CNN, accuracy_CNN, precision_CNN, recall_CNN, f1_CNN\n",
        "gc.collect()\n",
        "th.cuda.empty_cache()"
      ],
      "metadata": {
        "id": "CBBUkJquokqI",
        "colab": {
          "base_uri": "https://localhost:8080/"
        },
        "outputId": "cc72d061-fb76-49e5-a409-3c6d93ff1705"
      },
      "execution_count": 12,
      "outputs": [
        {
          "output_type": "stream",
          "name": "stdout",
          "text": [
            "Start testing the CNN\n",
            "Accuracy: 0.979094\n",
            "Precision: 0.958625\n",
            "Recall: 0.979094\n",
            "F1-score: 0.968752\n",
            "End testing the CNN\n"
          ]
        }
      ]
    },
    {
      "cell_type": "markdown",
      "source": [
        "*Train* of the **RNN** using the *Validation* set to check the performance."
      ],
      "metadata": {
        "id": "1G5i7_hGmvV7"
      }
    },
    {
      "cell_type": "code",
      "source": [
        "print(\"Start training the LSTM\")\n",
        "\n",
        "# Model, loss function and optimizer\n",
        "model_LSTM = LSTM_Net().to(device)\n",
        "criterion = nn.CrossEntropyLoss()\n",
        "optimizer = th.optim.Adam(model_LSTM.parameters(), lr=0.001)\n",
        "\n",
        "# Training the model\n",
        "num_epochs = 7\n",
        "train_losses = []\n",
        "val_losses = []\n",
        "\n",
        "for epoch in range(num_epochs):\n",
        "    model_LSTM.train()\n",
        "    running_loss = 0.0\n",
        "    i = 0\n",
        "    for X_batch, Y_batch in train_loader:\n",
        "\n",
        "        X_batch = X_batch.to(device).float()\n",
        "        Y_batch = Y_batch.to(device).long()\n",
        "\n",
        "        # Forward pass\n",
        "        outputs = model_LSTM(X_batch.to(device))\n",
        "        loss = criterion(outputs, Y_batch.to(device))\n",
        "\n",
        "        # Backward pass and optimization\n",
        "        optimizer.zero_grad()\n",
        "        loss.backward()\n",
        "        optimizer.step()\n",
        "\n",
        "        running_loss += loss.item()\n",
        "        i += 1\n",
        "\n",
        "        # Free memory\n",
        "        del X_batch, Y_batch\n",
        "        th.cuda.empty_cache()\n",
        "\n",
        "    # Validation\n",
        "    model_LSTM.eval()\n",
        "    val_loss = 0.0\n",
        "    j = 0\n",
        "    with th.no_grad():\n",
        "        for X_batch, Y_batch in val_loader:\n",
        "            X_batch = X_batch.to(device).float()\n",
        "            Y_batch = Y_batch.to(device).long()\n",
        "\n",
        "            outputs = model_LSTM(X_batch)\n",
        "            loss = criterion(outputs, Y_batch)\n",
        "\n",
        "            val_loss += loss.item()\n",
        "            j += 1\n",
        "\n",
        "            # Free memory\n",
        "            del X_batch, Y_batch\n",
        "            th.cuda.empty_cache()\n",
        "\n",
        "    # Losses\n",
        "    running_loss = running_loss/i\n",
        "    val_loss = val_loss/j\n",
        "\n",
        "    print(f'Epoch [{epoch+1}/{num_epochs}], Train Loss: {running_loss:.4f}, Val Loss: {val_loss:.4f}')\n",
        "\n",
        "print(\"End training the LSTM\")\n",
        "\n",
        "# Free memory\n",
        "del i, j, running_loss, val_loss\n",
        "gc.collect()\n",
        "th.cuda.empty_cache()"
      ],
      "metadata": {
        "id": "8ePulED-mxXd",
        "colab": {
          "base_uri": "https://localhost:8080/"
        },
        "outputId": "235e84bf-0654-4eee-b304-e208b1a29e41"
      },
      "execution_count": 13,
      "outputs": [
        {
          "output_type": "stream",
          "name": "stdout",
          "text": [
            "Start training the LSTM\n",
            "Epoch [1/7], Train Loss: 0.1823, Val Loss: 0.1129\n",
            "Epoch [2/7], Train Loss: 0.1020, Val Loss: 0.1052\n",
            "Epoch [3/7], Train Loss: 0.1012, Val Loss: 0.1087\n",
            "Epoch [4/7], Train Loss: 0.1015, Val Loss: 0.1069\n",
            "Epoch [5/7], Train Loss: 0.1020, Val Loss: 0.1075\n",
            "Epoch [6/7], Train Loss: 0.1015, Val Loss: 0.1091\n",
            "Epoch [7/7], Train Loss: 0.1012, Val Loss: 0.1072\n",
            "End training the LSTM\n"
          ]
        }
      ]
    },
    {
      "cell_type": "markdown",
      "source": [
        "**(OPTIONAL):** *Test* results forthe **RNN**."
      ],
      "metadata": {
        "id": "RCAvQnFzotd9"
      }
    },
    {
      "cell_type": "code",
      "source": [
        "print(\"Start testing the LSTM\")\n",
        "\n",
        "# Model ready for the evaluation\n",
        "model_LSTM.eval()\n",
        "\n",
        "# Arrays to save the results\n",
        "all_preds = []\n",
        "all_labels = []\n",
        "\n",
        "# Testing the model\n",
        "with th.no_grad():\n",
        "    for X_batch, Y_batch in test_loader:\n",
        "        X_batch = X_batch.to(device).float()\n",
        "        Y_batch = Y_batch.to(device).long()\n",
        "\n",
        "        outputs = model_CNN(X_batch)\n",
        "        _, predicted = th.max(outputs, 1)\n",
        "\n",
        "        all_preds.extend(predicted.cpu().numpy())\n",
        "        all_labels.extend(Y_batch.cpu().numpy())\n",
        "\n",
        "# Convert the tensor to use scikit learn metrics\n",
        "y_true_LSTM = all_labels\n",
        "y_pred_LSTM = all_preds\n",
        "\n",
        "# Metrics\n",
        "accuracy_LSTM = accuracy_score(y_true_LSTM, y_pred_LSTM)\n",
        "precision_LSTM = precision_score(y_true_LSTM, y_pred_LSTM, average='weighted', zero_division=0)\n",
        "recall_LSTM = recall_score(y_true_LSTM, y_pred_LSTM, average='weighted')\n",
        "f1_LSTM = f1_score(y_true_LSTM, y_pred_LSTM, average='weighted')\n",
        "\n",
        "print(f'Accuracy: {accuracy_LSTM:.6f}')\n",
        "print(f'Precision: {precision_LSTM:.6f}')\n",
        "print(f'Recall: {recall_LSTM:.6f}')\n",
        "print(f'F1-score: {f1_LSTM:.6f}')\n",
        "\n",
        "print(\"End testing the LSTM\")\n",
        "\n",
        "# Free memory\n",
        "del all_labels, all_preds, y_true_LSTM, y_pred_LSTM, accuracy_LSTM, precision_LSTM, recall_LSTM, f1_LSTM\n",
        "gc.collect()\n",
        "th.cuda.empty_cache()"
      ],
      "metadata": {
        "id": "Fc4lNi6IoqON",
        "colab": {
          "base_uri": "https://localhost:8080/"
        },
        "outputId": "adffc63e-b7ab-4673-a319-86a7918c1303"
      },
      "execution_count": 14,
      "outputs": [
        {
          "output_type": "stream",
          "name": "stdout",
          "text": [
            "Start testing the LSTM\n",
            "Accuracy: 0.979094\n",
            "Precision: 0.958625\n",
            "Recall: 0.979094\n",
            "F1-score: 0.968752\n",
            "End testing the LSTM\n"
          ]
        }
      ]
    },
    {
      "cell_type": "markdown",
      "source": [
        "Implementation of the **Ensemble Learning** using an **SVM** (stacking ensemble learing)."
      ],
      "metadata": {
        "id": "oOhwQoMemxyv"
      }
    },
    {
      "cell_type": "code",
      "source": [
        "\"\"\"\n",
        "An SVM takes in input the results from the CNN and RNN and then it preforms the final classification.\n",
        "\n",
        "I have to use skitlearn to do the ensable learing because the library is only avaiable on it!\n",
        "\"\"\"\n",
        "\n",
        "\"\"\"\n",
        "Function that, given a model and a data loader, it returns all the predictions (outputs)\n",
        "\"\"\"\n",
        "def get_predictions(model_pred, data_loader):\n",
        "    model_pred.eval()\n",
        "    all_preds = []\n",
        "    with th.no_grad():\n",
        "        for inputs, _ in data_loader:\n",
        "            outputs = model_pred(inputs.float().to(device))\n",
        "            all_preds.append(outputs.cpu().numpy())\n",
        "    return np.concatenate(all_preds)\n",
        "\n",
        "# Prepare the prediction for the training model\n",
        "CNN_train_preds = get_predictions(model_CNN, train_loader)\n",
        "LSTM_train_preds = get_predictions(model_LSTM, train_loader)\n",
        "\n",
        "# Prepare the prediction for the testing model\n",
        "CNN_test_preds = get_predictions(model_CNN, test_loader)\n",
        "LSTM_test_preds = get_predictions(model_LSTM, test_loader)\n",
        "\n",
        "# Concatenate the two inputs\n",
        "X_train_meta = np.hstack((CNN_train_preds, LSTM_train_preds))\n",
        "X_test_meta = np.hstack((CNN_test_preds, LSTM_test_preds))\n",
        "\n",
        "print(\"Shape of X_train_meta: \", X_train_meta.shape)\n",
        "print(\"Shape of Y_train: \", Y_train.shape)\n",
        "\n",
        "print(\"Shape of X_test_meta: \", X_test_meta.shape)\n",
        "print(\"Shape of Y_test: \", Y_test.shape)\n",
        "\n",
        "# Free memory\n",
        "gc.collect()\n",
        "th.cuda.empty_cache()"
      ],
      "metadata": {
        "id": "5PlI9nhBiojA",
        "colab": {
          "base_uri": "https://localhost:8080/"
        },
        "outputId": "c99a8637-13e2-426f-c249-bdea1636ca18"
      },
      "execution_count": 15,
      "outputs": [
        {
          "output_type": "stream",
          "name": "stdout",
          "text": [
            "Shape of X_train_meta:  (211238, 4)\n",
            "Shape of Y_train:  torch.Size([211238])\n",
            "Shape of X_test_meta:  (26404, 4)\n",
            "Shape of Y_test:  torch.Size([26404])\n"
          ]
        }
      ]
    },
    {
      "cell_type": "code",
      "source": [
        "# We use a polynomial SVM for the final classification\n",
        "model_SVM = SVC(kernel = 'poly', probability = True)\n",
        "\n",
        "model_SVM.fit(X_train_meta, Y_train.ravel())"
      ],
      "metadata": {
        "id": "f0X4pYiTm7Lm",
        "colab": {
          "base_uri": "https://localhost:8080/",
          "height": 74
        },
        "outputId": "48203e96-2b5f-4bf6-93e8-cbe9df7344bc"
      },
      "execution_count": 16,
      "outputs": [
        {
          "output_type": "execute_result",
          "data": {
            "text/plain": [
              "SVC(kernel='poly', probability=True)"
            ],
            "text/html": [
              "<style>#sk-container-id-1 {color: black;background-color: white;}#sk-container-id-1 pre{padding: 0;}#sk-container-id-1 div.sk-toggleable {background-color: white;}#sk-container-id-1 label.sk-toggleable__label {cursor: pointer;display: block;width: 100%;margin-bottom: 0;padding: 0.3em;box-sizing: border-box;text-align: center;}#sk-container-id-1 label.sk-toggleable__label-arrow:before {content: \"▸\";float: left;margin-right: 0.25em;color: #696969;}#sk-container-id-1 label.sk-toggleable__label-arrow:hover:before {color: black;}#sk-container-id-1 div.sk-estimator:hover label.sk-toggleable__label-arrow:before {color: black;}#sk-container-id-1 div.sk-toggleable__content {max-height: 0;max-width: 0;overflow: hidden;text-align: left;background-color: #f0f8ff;}#sk-container-id-1 div.sk-toggleable__content pre {margin: 0.2em;color: black;border-radius: 0.25em;background-color: #f0f8ff;}#sk-container-id-1 input.sk-toggleable__control:checked~div.sk-toggleable__content {max-height: 200px;max-width: 100%;overflow: auto;}#sk-container-id-1 input.sk-toggleable__control:checked~label.sk-toggleable__label-arrow:before {content: \"▾\";}#sk-container-id-1 div.sk-estimator input.sk-toggleable__control:checked~label.sk-toggleable__label {background-color: #d4ebff;}#sk-container-id-1 div.sk-label input.sk-toggleable__control:checked~label.sk-toggleable__label {background-color: #d4ebff;}#sk-container-id-1 input.sk-hidden--visually {border: 0;clip: rect(1px 1px 1px 1px);clip: rect(1px, 1px, 1px, 1px);height: 1px;margin: -1px;overflow: hidden;padding: 0;position: absolute;width: 1px;}#sk-container-id-1 div.sk-estimator {font-family: monospace;background-color: #f0f8ff;border: 1px dotted black;border-radius: 0.25em;box-sizing: border-box;margin-bottom: 0.5em;}#sk-container-id-1 div.sk-estimator:hover {background-color: #d4ebff;}#sk-container-id-1 div.sk-parallel-item::after {content: \"\";width: 100%;border-bottom: 1px solid gray;flex-grow: 1;}#sk-container-id-1 div.sk-label:hover label.sk-toggleable__label {background-color: #d4ebff;}#sk-container-id-1 div.sk-serial::before {content: \"\";position: absolute;border-left: 1px solid gray;box-sizing: border-box;top: 0;bottom: 0;left: 50%;z-index: 0;}#sk-container-id-1 div.sk-serial {display: flex;flex-direction: column;align-items: center;background-color: white;padding-right: 0.2em;padding-left: 0.2em;position: relative;}#sk-container-id-1 div.sk-item {position: relative;z-index: 1;}#sk-container-id-1 div.sk-parallel {display: flex;align-items: stretch;justify-content: center;background-color: white;position: relative;}#sk-container-id-1 div.sk-item::before, #sk-container-id-1 div.sk-parallel-item::before {content: \"\";position: absolute;border-left: 1px solid gray;box-sizing: border-box;top: 0;bottom: 0;left: 50%;z-index: -1;}#sk-container-id-1 div.sk-parallel-item {display: flex;flex-direction: column;z-index: 1;position: relative;background-color: white;}#sk-container-id-1 div.sk-parallel-item:first-child::after {align-self: flex-end;width: 50%;}#sk-container-id-1 div.sk-parallel-item:last-child::after {align-self: flex-start;width: 50%;}#sk-container-id-1 div.sk-parallel-item:only-child::after {width: 0;}#sk-container-id-1 div.sk-dashed-wrapped {border: 1px dashed gray;margin: 0 0.4em 0.5em 0.4em;box-sizing: border-box;padding-bottom: 0.4em;background-color: white;}#sk-container-id-1 div.sk-label label {font-family: monospace;font-weight: bold;display: inline-block;line-height: 1.2em;}#sk-container-id-1 div.sk-label-container {text-align: center;}#sk-container-id-1 div.sk-container {/* jupyter's `normalize.less` sets `[hidden] { display: none; }` but bootstrap.min.css set `[hidden] { display: none !important; }` so we also need the `!important` here to be able to override the default hidden behavior on the sphinx rendered scikit-learn.org. See: https://github.com/scikit-learn/scikit-learn/issues/21755 */display: inline-block !important;position: relative;}#sk-container-id-1 div.sk-text-repr-fallback {display: none;}</style><div id=\"sk-container-id-1\" class=\"sk-top-container\"><div class=\"sk-text-repr-fallback\"><pre>SVC(kernel=&#x27;poly&#x27;, probability=True)</pre><b>In a Jupyter environment, please rerun this cell to show the HTML representation or trust the notebook. <br />On GitHub, the HTML representation is unable to render, please try loading this page with nbviewer.org.</b></div><div class=\"sk-container\" hidden><div class=\"sk-item\"><div class=\"sk-estimator sk-toggleable\"><input class=\"sk-toggleable__control sk-hidden--visually\" id=\"sk-estimator-id-1\" type=\"checkbox\" checked><label for=\"sk-estimator-id-1\" class=\"sk-toggleable__label sk-toggleable__label-arrow\">SVC</label><div class=\"sk-toggleable__content\"><pre>SVC(kernel=&#x27;poly&#x27;, probability=True)</pre></div></div></div></div></div>"
            ]
          },
          "metadata": {},
          "execution_count": 16
        }
      ]
    },
    {
      "cell_type": "markdown",
      "source": [
        "**Test** of the performance."
      ],
      "metadata": {
        "id": "PaBpALEtmo0G"
      }
    },
    {
      "cell_type": "code",
      "source": [
        "print(\"Start testing the final model\")\n",
        "\n",
        "# I convert the data (if needed)\n",
        "y_true = Y_test.cpu().numpy() if isinstance(Y_test, th.Tensor) else Y_test\n",
        "\n",
        "# Testing the meta-model: SVM\n",
        "y_pred = model_SVM.predict(X_test_meta)\n",
        "\n",
        "# Metrics\n",
        "accuracy = accuracy_score(y_true, y_pred)\n",
        "precision = precision_score(y_true, y_pred, average='weighted', zero_division=0)\n",
        "recall = recall_score(y_true, y_pred, average='weighted')\n",
        "f1 = f1_score(y_true, y_pred, average='weighted')\n",
        "\n",
        "print(f'Accuracy: {accuracy:.6f}')\n",
        "print(f'Precision: {precision:.6f}')\n",
        "print(f'Recall: {recall:.6f}')\n",
        "print(f'F1-score: {f1:.6f}')\n",
        "\n",
        "print(\"End testing the final model\")"
      ],
      "metadata": {
        "id": "c8YnAeVfmlAC",
        "colab": {
          "base_uri": "https://localhost:8080/"
        },
        "outputId": "9be2913b-8a8b-406d-e474-64ecaebfff3a"
      },
      "execution_count": 17,
      "outputs": [
        {
          "output_type": "stream",
          "name": "stdout",
          "text": [
            "Start testing the final model\n",
            "Accuracy: 0.979094\n",
            "Precision: 0.958625\n",
            "Recall: 0.979094\n",
            "F1-score: 0.968752\n",
            "End testing the final model\n"
          ]
        }
      ]
    }
  ]
}