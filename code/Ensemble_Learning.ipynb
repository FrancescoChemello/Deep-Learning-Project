{
  "nbformat": 4,
  "nbformat_minor": 0,
  "metadata": {
    "colab": {
      "provenance": [],
      "gpuType": "T4"
    },
    "kernelspec": {
      "name": "python3",
      "display_name": "Python 3"
    },
    "language_info": {
      "name": "python"
    },
    "accelerator": "GPU"
  },
  "cells": [
    {
      "cell_type": "markdown",
      "source": [
        "**Ensemble Learning**\n",
        "- **CNN**.\n",
        "- **RNN** implemented using a *LSTM*.\n",
        "\n",
        "It can uses also a *random seed* to shuffle the data and use a different *training*, *validation* and *test* set respect to the ones used by ***ViraMiner***."
      ],
      "metadata": {
        "id": "XesKIRwki-SK"
      }
    },
    {
      "cell_type": "code",
      "execution_count": 1,
      "metadata": {
        "id": "8kfMZfDCGW1B"
      },
      "outputs": [],
      "source": [
        "\"\"\"\n",
        "Main libraries\n",
        "\"\"\"\n",
        "\n",
        "import torch as th\n",
        "import torch.nn as nn\n",
        "import torch.nn.functional as F\n",
        "from torch.utils.data import DataLoader, Dataset\n",
        "import numpy as np\n",
        "import pandas as pd\n",
        "import tensorflow as tf\n",
        "\n",
        "import random\n",
        "import gc"
      ]
    },
    {
      "cell_type": "code",
      "source": [
        "\"\"\"\n",
        "For the ensamble learning\n",
        "\"\"\"\n",
        "from sklearn.svm import SVC"
      ],
      "metadata": {
        "id": "aTJgc4Axfk7G"
      },
      "execution_count": 2,
      "outputs": []
    },
    {
      "cell_type": "code",
      "source": [
        "\"\"\"\n",
        "Only for the metrics analysis\n",
        "\"\"\"\n",
        "from sklearn.metrics import accuracy_score, precision_score, recall_score, f1_score"
      ],
      "metadata": {
        "id": "MRQnBXcPjfBL"
      },
      "execution_count": 3,
      "outputs": []
    },
    {
      "cell_type": "markdown",
      "source": [
        "The **Onehot Encoding** that transform a *DNA sequence* to a vector of zeros and ones. It is useful expectially for the **CNN**."
      ],
      "metadata": {
        "id": "V8Z62Tnwjifl"
      }
    },
    {
      "cell_type": "code",
      "source": [
        "\"\"\"\n",
        "Functions for the onehot encoding\n",
        "\"\"\"\n",
        "\n",
        "def onehot_encoder(dataset):\n",
        "    \"\"\"\n",
        "    Function that encodes a DNA dataset into a onehot encoding dataset.\n",
        "    \"\"\"\n",
        "    onehot_dataset = [dna_onehot_encoder(dna_string) for dna_string in dataset]\n",
        "    onehot_dataset_numpy = np.array(onehot_dataset)\n",
        "\n",
        "    return onehot_dataset_numpy\n",
        "\n",
        "\n",
        "def dna_onehot_encoder(dna_sequence):\n",
        "    \"\"\"\n",
        "    Function that encodes a single DNA string into a onehot encoding string.\n",
        "    \"\"\"\n",
        "    onehot_dict = {\n",
        "        'A' : [1, 0, 0, 0],\n",
        "        'C' : [0, 1, 0, 0],\n",
        "        'G' : [0, 0, 1, 0],\n",
        "        'T' : [0, 0, 0, 1]\n",
        "    }\n",
        "    encoder = [onehot_dict[nuc] for nuc in dna_sequence]\n",
        "\n",
        "    return encoder"
      ],
      "metadata": {
        "id": "UvkvwCS0jftS"
      },
      "execution_count": 4,
      "outputs": []
    },
    {
      "cell_type": "markdown",
      "source": [
        "The **CNN** model: direct from the file *CNN.ipynb* avaiable in the GitHub repository."
      ],
      "metadata": {
        "id": "9xFuLfEFkTJA"
      }
    },
    {
      "cell_type": "code",
      "source": [
        "\"\"\"\n",
        "!- CNN Model\n",
        "\"\"\"\n",
        "\n",
        "class ConvNet(nn.Module):\n",
        "    # We can use a differnet pool for each layer\n",
        "    def __init__(self):\n",
        "        super(ConvNet, self).__init__()\n",
        "\n",
        "        self.layer1 = nn.Sequential(\n",
        "            nn.Conv1d(300, 200, kernel_size=2, padding=1),\n",
        "            nn.BatchNorm1d(200),\n",
        "            nn.PReLU(),\n",
        "            nn.AvgPool1d(2),\n",
        "            nn.Dropout1d(0.45)\n",
        "        )\n",
        "\n",
        "        # I remove random connection to help the convergency\n",
        "        self.drop_out = nn.Dropout()\n",
        "\n",
        "        self.layer2 = nn.Sequential(\n",
        "            nn.Conv1d(200, 100, kernel_size=2, padding=1),\n",
        "            nn.BatchNorm1d(100),\n",
        "            nn.PReLU(),\n",
        "            nn.AvgPool1d(2),\n",
        "            nn.Dropout1d(0.45)\n",
        "        )\n",
        "\n",
        "        # I remove random connection to help the convergency\n",
        "        self.drop_out = nn.Dropout()\n",
        "\n",
        "        self.layer3 = nn.Sequential(\n",
        "            nn.Conv1d(100, 75, kernel_size=2, padding=1),\n",
        "            nn.BatchNorm1d(75),\n",
        "            nn.PReLU(),\n",
        "            nn.MaxPool1d(2),\n",
        "            nn.Dropout1d(0.3)\n",
        "        )\n",
        "\n",
        "        self.layer4 = nn.Sequential(\n",
        "            nn.Conv1d(75, 50, kernel_size = 2, padding = 1),\n",
        "            nn.BatchNorm1d(50),\n",
        "            nn.PReLU(),\n",
        "            nn.MaxPool1d(2),\n",
        "            nn.Dropout(0.3)\n",
        "        )\n",
        "\n",
        "\n",
        "        self.layer5 = nn.Sequential(\n",
        "            nn.Conv1d(50, 32, kernel_size=2, padding=1),\n",
        "            nn.BatchNorm1d(32),\n",
        "            nn.PReLU(),\n",
        "            nn.MaxPool1d(2),\n",
        "            nn.Dropout1d(0.3)\n",
        "        )\n",
        "\n",
        "        self.linear1 = nn.Linear(32, 128)\n",
        "        self.linear2 = nn.Linear(128, 2)\n",
        "\n",
        "    def forward(self, x):\n",
        "        x = self.layer1(x)\n",
        "        # print(\"Layer 1: \", x.shape)\n",
        "        x = self.layer2(x)\n",
        "        # print(\"Layer 2: \", x.shape)\n",
        "        x = self.layer3(x)\n",
        "        # print(\"Layer 3: \", x.shape)\n",
        "        x = self.layer4(x)\n",
        "        # print(\"Layer 4: \", x.shape)\n",
        "        x = self.layer5(x)\n",
        "        # print(\"Layer 5: \", x.shape)\n",
        "        # Flatten the output for the linear layer\n",
        "        x = x.view(x.size(0), -1)\n",
        "        x = self.linear1(x)\n",
        "        x = self.linear2(x)\n",
        "        # print(\"Linear: \", x.shape)\n",
        "        return x"
      ],
      "metadata": {
        "id": "u-4GD7XkkRiZ"
      },
      "execution_count": 5,
      "outputs": []
    },
    {
      "cell_type": "markdown",
      "source": [
        "The **RNN** model: direct from the file *LSTM.ipynb* avaiable in the GitHub repository. We choose the *LSTM* over the *GRU* because it obtained an **higher** precision on the dataset and also is **less** computationally demanding."
      ],
      "metadata": {
        "id": "Xd0t15Gjke_F"
      }
    },
    {
      "cell_type": "code",
      "source": [
        "class LSTM_Net (nn.Module):\n",
        "    def __init__ (self):\n",
        "        super(LSTM_Net, self).__init__()\n",
        "        self.conv1 = nn.Conv1d(in_channels=4, out_channels=32, kernel_size=3)\n",
        "        self.conv2 = nn.Conv1d(in_channels=32, out_channels=64, kernel_size=3)\n",
        "        self.conv3 = nn.Conv1d(in_channels=64, out_channels=128, kernel_size=3)\n",
        "        self.pool = nn.MaxPool1d(kernel_size=2)\n",
        "\n",
        "        self.lstm = nn.LSTM(input_size=128, hidden_size=128, num_layers=2, batch_first=True, dropout=0.5)\n",
        "\n",
        "        self.fc1 = nn.Linear(128, 256)\n",
        "        self.fc2 = nn.Linear(256, 2)\n",
        "\n",
        "    def forward(self, x):\n",
        "        x = x.permute(0, 2, 1)\n",
        "        x = self.pool(F.relu(self.conv1(x)))\n",
        "        x = self.pool(F.relu(self.conv2(x)))\n",
        "        x = self.pool(F.relu(self.conv3(x)))\n",
        "\n",
        "        x = x.permute(0, 2, 1)\n",
        "        x, _ = self.lstm(x)\n",
        "\n",
        "        x = x[:, -1, :]\n",
        "        x = x.contiguous().view(x.size(0), -1)\n",
        "        x = F.relu(self.fc1(x))\n",
        "        x = self.fc2(x)\n",
        "\n",
        "        return x"
      ],
      "metadata": {
        "id": "CFVonbFAkd7f"
      },
      "execution_count": 6,
      "outputs": []
    },
    {
      "cell_type": "markdown",
      "source": [
        "**MAIN**"
      ],
      "metadata": {
        "id": "gOdTxRjflNbX"
      }
    },
    {
      "cell_type": "markdown",
      "source": [
        "Training phase"
      ],
      "metadata": {
        "id": "uOcE4IfZlXCZ"
      }
    },
    {
      "cell_type": "code",
      "source": [
        "\"\"\"\n",
        "!- MAIN\n",
        "\"\"\"\n",
        "\n",
        "# Set the device to be used (GPU or CPU)\n",
        "device = th.device(\"cuda\" if th.cuda.is_available() else \"cpu\")\n",
        "print(\"Device: \", device)\n",
        "\n",
        "# Read the input from the cvc file\n",
        "\"\"\"\n",
        "If run in local machine:\n",
        "\n",
        "data_dir = os.path.abspath(os.path.join(os.getcwd(), 'data'))\n",
        "train_data_path = os.path.join(data_dir, 'fullset_train.csv')\n",
        "val_data_path = os.path.join(data_dir, 'fullset_validation.csv')\n",
        "test_data_path = os.path.join(data_dir, 'fullset_test.csv')\n",
        "\"\"\"\n",
        "\n",
        "rel_path_train = '/content/fullset_train.csv'\n",
        "rel_path_val = '/content/fullset_validation.csv'\n",
        "rel_path_test = '/content/fullset_test.csv'\n",
        "\n",
        "# Training Set\n",
        "\n",
        "# Read the input from the csv file\n",
        "train_csv = pd.read_csv(rel_path_train, sep=\",\")\n",
        "# Drop the NaN values\n",
        "train_csv = train_csv.dropna()\n",
        "# Describe the data\n",
        "print(train_csv.describe())\n",
        "\n",
        "# Get the data from the csv file\n",
        "train_data = train_csv.values\n",
        "# m = number of input samples\n",
        "m = train_data.shape[0]\n",
        "\n",
        "X_train = train_data[:m,1]\n",
        "Y_train = train_data[:m,2].astype(np.int32)\n",
        "\n",
        "# OneHot encoding for the training data\n",
        "print(\"Start onehot encoding for the training data\")\n",
        "X_train = onehot_encoder(X_train)\n",
        "\n",
        "# Convert the data to a tensor\n",
        "X_train = th.from_numpy(X_train).to(device)\n",
        "Y_train = th.tensor(Y_train).to(device)\n",
        "\n",
        "print(\"X_train shape: \", X_train.shape)\n",
        "print(\"Y_train shape: \", Y_train.shape)\n",
        "\n",
        "# Free memory\n",
        "del train_csv, train_data, m\n",
        "th.cuda.empty_cache()\n",
        "\n",
        "# Validation Set\n",
        "\n",
        "# Read the input from the csv file\n",
        "val_csv = pd.read_csv(rel_path_val, sep=\",\")\n",
        "# Drop the NaN values\n",
        "val_csv = val_csv.dropna()\n",
        "# Describe the data\n",
        "print(val_csv.describe())\n",
        "\n",
        "val_data = val_csv.values\n",
        "# m = number of input samples\n",
        "m = val_data.shape[0]\n",
        "\n",
        "X_val = val_data[:m,1]\n",
        "Y_val = val_data[:m,2].astype(np.int32)\n",
        "\n",
        "# OneHot encoding for the validation data\n",
        "print(\"Start onehot encoding for the validation data\")\n",
        "X_val = onehot_encoder(X_val)\n",
        "\n",
        "X_val = th.from_numpy(X_val).to(device)\n",
        "Y_val = th.tensor(Y_val).to(device)\n",
        "\n",
        "print(\"X_val shape\", X_val.shape)\n",
        "print(\"Y_val shape\", Y_val.shape)\n",
        "\n",
        "# Free memory\n",
        "del val_csv, val_data, m\n",
        "th.cuda.empty_cache()\n",
        "\n",
        "# Test\n",
        "\n",
        "# Read the input from the csv file\n",
        "test_csv = pd.read_csv(rel_path_test, sep=\",\")\n",
        "# Drop the NaN values\n",
        "test_csv = test_csv.dropna()\n",
        "# Describe the data\n",
        "print(test_csv.describe())\n",
        "\n",
        "test_data = test_csv.values\n",
        "# m = number of input samples\n",
        "m = test_data.shape[0]\n",
        "\n",
        "X_test = test_data[:m,1]\n",
        "Y_test = test_data[:m,2].astype(np.int32)\n",
        "\n",
        "# OneHot encoding for the test data\n",
        "print(\"Start onehot encoding for the test data\")\n",
        "X_test = onehot_encoder(X_test)\n",
        "\n",
        "X_test = th.from_numpy(X_test).to(device)\n",
        "Y_test = th.tensor(Y_test).to(device)\n",
        "\n",
        "print(\"X_test shape\", X_test.shape)\n",
        "print(\"Y_test shape\", Y_test.shape)\n",
        "\n",
        "# Free memory\n",
        "del test_csv, test_data, m\n",
        "th.cuda.empty_cache()"
      ],
      "metadata": {
        "id": "4TJX4a7QlZB6",
        "colab": {
          "base_uri": "https://localhost:8080/"
        },
        "outputId": "ef249f23-1428-4535-b154-5abd1aae5bb5"
      },
      "execution_count": 7,
      "outputs": [
        {
          "output_type": "stream",
          "name": "stdout",
          "text": [
            "Device:  cuda\n",
            "                   0\n",
            "count  211238.000000\n",
            "mean        0.021142\n",
            "std         0.143858\n",
            "min         0.000000\n",
            "25%         0.000000\n",
            "50%         0.000000\n",
            "75%         0.000000\n",
            "max         1.000000\n",
            "Start onehot encoding for the training data\n",
            "X_train shape:  torch.Size([211238, 300, 4])\n",
            "Y_train shape:  torch.Size([211238])\n",
            "                  0\n",
            "count  26404.000000\n",
            "mean       0.020224\n",
            "std        0.140769\n",
            "min        0.000000\n",
            "25%        0.000000\n",
            "50%        0.000000\n",
            "75%        0.000000\n",
            "max        1.000000\n",
            "Start onehot encoding for the validation data\n",
            "X_val shape torch.Size([26404, 300, 4])\n",
            "Y_val shape torch.Size([26404])\n",
            "                  0\n",
            "count  26404.000000\n",
            "mean       0.020868\n",
            "std        0.142945\n",
            "min        0.000000\n",
            "25%        0.000000\n",
            "50%        0.000000\n",
            "75%        0.000000\n",
            "max        1.000000\n",
            "Start onehot encoding for the test data\n",
            "X_test shape torch.Size([26404, 300, 4])\n",
            "Y_test shape torch.Size([26404])\n"
          ]
        }
      ]
    },
    {
      "cell_type": "markdown",
      "source": [
        "**Shuffle of the data** *(optional)* using a random seed."
      ],
      "metadata": {
        "id": "pyFnowCTl6p9"
      }
    },
    {
      "cell_type": "code",
      "source": [
        "\"\"\"\n",
        "I merge the three tensor array to a big one and then, after a shuffle, I split the data into:\n",
        "  - Training: 211238 data\n",
        "  - Validation: 26404 data\n",
        "  - Test: 26404 data\n",
        "\n",
        "  Random seed: 47 (the most used)\n",
        "\"\"\"\n",
        "\n",
        "# Merge the arrays\n",
        "\n",
        "print(\"Shape of X_train: \", X_train.shape)\n",
        "print(\"Shape of X_val: \", X_val.shape)\n",
        "print(\"Shape of X_test: \", X_test.shape)\n",
        "\n",
        "X_data = th.concat((X_train, X_val), axis = 0).to(device)\n",
        "X_data = th.concat((X_data, X_test), axis = 0).to(device)\n",
        "\n",
        "print(\"Shape of data: \", X_data.shape)\n",
        "\n",
        "del X_train, X_val, X_test\n",
        "th.cuda.empty_cache()\n",
        "\n",
        "print(\"Shape of Y_train: \", Y_train.shape)\n",
        "print(\"Shape of Y_val: \", Y_val.shape)\n",
        "print(\"Shape of Y_test: \", Y_test.shape)\n",
        "\n",
        "Y_data = th.concat((Y_train, Y_val), axis = 0).to(device)\n",
        "Y_data = th.concat((Y_data, Y_test), axis = 0).to(device)\n",
        "\n",
        "print(\"Shape of data: \", Y_data.shape)\n",
        "\n",
        "del Y_train, Y_val, Y_test\n",
        "th.cuda.empty_cache()\n",
        "\n",
        "# Random Seed\n",
        "random_seed = 47\n",
        "th.manual_seed(random_seed)\n",
        "\n",
        "X_index_shuffle = th.randperm(X_data.size(0))\n",
        "X_data_shuffled = X_data[X_index_shuffle]\n",
        "\n",
        "Y_index_shuffle = th.randperm(Y_data.size(0))\n",
        "Y_data_shuffled = Y_data[Y_index_shuffle]\n",
        "\n",
        "print(\"X_data_shuffled shape: \", X_data_shuffled.shape)\n",
        "print(\"Y_data_shuffled shape: \", Y_data_shuffled.shape)\n",
        "\n",
        "# Split data into Training, Validation and Test\n",
        "\n",
        "X_train = X_data_shuffled[:211238].to(device)\n",
        "Y_train = Y_data_shuffled[:211238].to(device)\n",
        "print(\"X_train shape: \", X_train.shape)\n",
        "print(\"Y_train shape: \", Y_train.shape)\n",
        "\n",
        "X_val = X_data_shuffled[211238:237642]\n",
        "Y_val = Y_data_shuffled[211238:237642]\n",
        "print(\"X_val shape: \", X_val.shape)\n",
        "print(\"Y_val shape: \", Y_val.shape)\n",
        "\n",
        "X_test = X_data_shuffled[237642:].to(device)\n",
        "Y_test = Y_data_shuffled[237642:].to(device)\n",
        "print(\"X_test shape: \", X_test.shape)\n",
        "print(\"Y_test shape: \", Y_test.shape)"
      ],
      "metadata": {
        "id": "j2XRhmhll3qP",
        "colab": {
          "base_uri": "https://localhost:8080/"
        },
        "outputId": "0b128c4b-5a54-45d4-ff4a-20e1ac1ddb72"
      },
      "execution_count": 8,
      "outputs": [
        {
          "output_type": "stream",
          "name": "stdout",
          "text": [
            "Shape of X_train:  torch.Size([211238, 300, 4])\n",
            "Shape of X_val:  torch.Size([26404, 300, 4])\n",
            "Shape of X_test:  torch.Size([26404, 300, 4])\n",
            "Shape of data:  torch.Size([264046, 300, 4])\n",
            "Shape of Y_train:  torch.Size([211238])\n",
            "Shape of Y_val:  torch.Size([26404])\n",
            "Shape of Y_test:  torch.Size([26404])\n",
            "Shape of data:  torch.Size([264046])\n",
            "X_data_shuffled shape:  torch.Size([264046, 300, 4])\n",
            "Y_data_shuffled shape:  torch.Size([264046])\n",
            "X_train shape:  torch.Size([211238, 300, 4])\n",
            "Y_train shape:  torch.Size([211238])\n",
            "X_val shape:  torch.Size([26404, 300, 4])\n",
            "Y_val shape:  torch.Size([26404])\n",
            "X_test shape:  torch.Size([26404, 300, 4])\n",
            "Y_test shape:  torch.Size([26404])\n"
          ]
        }
      ]
    },
    {
      "cell_type": "markdown",
      "source": [
        "*Train* of the **CNN** using the *Validation* set to check the performance."
      ],
      "metadata": {
        "id": "YsILBtnjmSD4"
      }
    },
    {
      "cell_type": "code",
      "source": [
        "print(\"Start training the model\")\n",
        "\n",
        "model_CNN = ConvNet().to(device)\n",
        "\n",
        "# Loss and optimizer\n",
        "criterion = nn.CrossEntropyLoss()\n",
        "optimizer = th.optim.AdamW(model_CNN.parameters(), lr=0.001)\n",
        "scheduler = th.optim.lr_scheduler.ReduceLROnPlateau(optimizer, 'min', patience=3, verbose=True)\n",
        "\n",
        "# Early stopping parameters\n",
        "patience = 3  # CHECK THE VALUE!!\n",
        "best_val_loss = float('inf')\n",
        "counter = 0\n",
        "\n",
        "# Training the model\n",
        "num_epochs = 100  # Hope to reach convergence before 100 epoches\n",
        "train_loss_CNN, val_loss_CNN = [], []\n",
        "\n",
        "for epoch in range(num_epochs):\n",
        "    model_CNN.train()\n",
        "    X_train = X_train.float()\n",
        "    Y_train = Y_train.long()\n",
        "    outputs = model_CNN(X_train.to(device))\n",
        "    loss = criterion(outputs, Y_train.to(device))\n",
        "    train_loss_CNN.append(loss.item())\n",
        "\n",
        "    optimizer.zero_grad()\n",
        "    loss.backward()\n",
        "    optimizer.step()\n",
        "\n",
        "    # Validation the model\n",
        "    model_CNN.eval()\n",
        "    with th.no_grad():\n",
        "        X_val = X_val.float()\n",
        "        Y_val = Y_val.long()\n",
        "        val_outputs = model_CNN(X_val.to(device))\n",
        "        val_loss = criterion(val_outputs, Y_val.to(device))\n",
        "        val_loss_CNN.append(val_loss.item())\n",
        "        scheduler.step(val_loss)\n",
        "\n",
        "    print(f'Epoch [{epoch+1}/{num_epochs}], Train Loss: {loss.item():.4f}, Val Loss: {val_loss.item():.4f}')\n",
        "\n",
        "    # Check for early stopping\n",
        "    if val_loss <= best_val_loss:\n",
        "        best_val_loss = val_loss\n",
        "        counter = 0\n",
        "    else:\n",
        "        counter += 1\n",
        "        if counter >= patience:\n",
        "            print(f\"Early stopping at epoch {epoch+1}\")\n",
        "            break\n",
        "\n",
        "print(\"End training the model\")\n",
        "\n",
        "# Free memory\n",
        "gc.collect()\n",
        "th.cuda.empty_cache()"
      ],
      "metadata": {
        "id": "7SC620P4mZ92",
        "colab": {
          "base_uri": "https://localhost:8080/"
        },
        "outputId": "5533105a-35c7-48e0-cfcb-9a2646fec0a8"
      },
      "execution_count": 9,
      "outputs": [
        {
          "output_type": "stream",
          "name": "stdout",
          "text": [
            "Start training the model\n"
          ]
        },
        {
          "output_type": "stream",
          "name": "stderr",
          "text": [
            "/usr/local/lib/python3.10/dist-packages/torch/optim/lr_scheduler.py:28: UserWarning: The verbose parameter is deprecated. Please use get_last_lr() to access the learning rate.\n",
            "  warnings.warn(\"The verbose parameter is deprecated. Please use get_last_lr() \"\n",
            "/usr/local/lib/python3.10/dist-packages/torch/autograd/graph.py:744: UserWarning: Plan failed with a cudnnException: CUDNN_BACKEND_EXECUTION_PLAN_DESCRIPTOR: cudnnFinalize Descriptor Failed cudnn_status: CUDNN_STATUS_NOT_SUPPORTED (Triggered internally at ../aten/src/ATen/native/cudnn/Conv_v8.cpp:919.)\n",
            "  return Variable._execution_engine.run_backward(  # Calls into the C++ engine to run the backward pass\n"
          ]
        },
        {
          "output_type": "stream",
          "name": "stdout",
          "text": [
            "Epoch [1/100], Train Loss: 0.9226, Val Loss: 0.7139\n",
            "Epoch [2/100], Train Loss: 0.7638, Val Loss: 0.7082\n",
            "Epoch [3/100], Train Loss: 0.6296, Val Loss: 0.7018\n",
            "Epoch [4/100], Train Loss: 0.5173, Val Loss: 0.6921\n",
            "Epoch [5/100], Train Loss: 0.4251, Val Loss: 0.6800\n",
            "Epoch [6/100], Train Loss: 0.3503, Val Loss: 0.6651\n",
            "Epoch [7/100], Train Loss: 0.2906, Val Loss: 0.6464\n",
            "Epoch [8/100], Train Loss: 0.2434, Val Loss: 0.6228\n",
            "Epoch [9/100], Train Loss: 0.2067, Val Loss: 0.5950\n",
            "Epoch [10/100], Train Loss: 0.1784, Val Loss: 0.5611\n",
            "Epoch [11/100], Train Loss: 0.1568, Val Loss: 0.5213\n",
            "Epoch [12/100], Train Loss: 0.1409, Val Loss: 0.4749\n",
            "Epoch [13/100], Train Loss: 0.1290, Val Loss: 0.4226\n",
            "Epoch [14/100], Train Loss: 0.1209, Val Loss: 0.3698\n",
            "Epoch [15/100], Train Loss: 0.1154, Val Loss: 0.3195\n",
            "Epoch [16/100], Train Loss: 0.1116, Val Loss: 0.2743\n",
            "Epoch [17/100], Train Loss: 0.1095, Val Loss: 0.2351\n",
            "Epoch [18/100], Train Loss: 0.1089, Val Loss: 0.2016\n",
            "Epoch [19/100], Train Loss: 0.1083, Val Loss: 0.1750\n",
            "Epoch [20/100], Train Loss: 0.1078, Val Loss: 0.1545\n",
            "Epoch [21/100], Train Loss: 0.1087, Val Loss: 0.1393\n",
            "Epoch [22/100], Train Loss: 0.1102, Val Loss: 0.1285\n",
            "Epoch [23/100], Train Loss: 0.1103, Val Loss: 0.1211\n",
            "Epoch [24/100], Train Loss: 0.1114, Val Loss: 0.1160\n",
            "Epoch [25/100], Train Loss: 0.1123, Val Loss: 0.1127\n",
            "Epoch [26/100], Train Loss: 0.1129, Val Loss: 0.1105\n",
            "Epoch [27/100], Train Loss: 0.1132, Val Loss: 0.1092\n",
            "Epoch [28/100], Train Loss: 0.1137, Val Loss: 0.1084\n",
            "Epoch [29/100], Train Loss: 0.1141, Val Loss: 0.1079\n",
            "Epoch [30/100], Train Loss: 0.1147, Val Loss: 0.1077\n",
            "Epoch [31/100], Train Loss: 0.1141, Val Loss: 0.1076\n",
            "Epoch [32/100], Train Loss: 0.1148, Val Loss: 0.1077\n",
            "Epoch [33/100], Train Loss: 0.1147, Val Loss: 0.1078\n",
            "Epoch [34/100], Train Loss: 0.1144, Val Loss: 0.1081\n",
            "Early stopping at epoch 34\n",
            "End training the model\n"
          ]
        }
      ]
    },
    {
      "cell_type": "markdown",
      "source": [
        "**(OPTIONAL):** *Test* results for the **CNN**."
      ],
      "metadata": {
        "id": "aL4g50f6ocxk"
      }
    },
    {
      "cell_type": "code",
      "source": [
        "print(\"Start testing the CNN\")\n",
        "\n",
        "X_test = X_test.to(device).float()\n",
        "\n",
        "# Model ready for the evaluation\n",
        "model_CNN.eval()\n",
        "\n",
        "# Testing the model\n",
        "with th.no_grad():\n",
        "    outputs = model_CNN(X_test)\n",
        "    _, predicted = th.max(outputs, 1)\n",
        "\n",
        "# Convert the tensor to use scikit learn metrics\n",
        "y_true = Y_test.cpu().numpy()\n",
        "y_pred = predicted.cpu().numpy()\n",
        "\n",
        "# Metrics\n",
        "accuracy = accuracy_score(y_true, y_pred)\n",
        "precision = precision_score(y_true, y_pred, average='weighted', zero_division=0)\n",
        "recall = recall_score(y_true, y_pred, average='weighted')\n",
        "f1 = f1_score(y_true, y_pred, average='weighted')\n",
        "\n",
        "print(f'Accuracy: {accuracy:.6f}')\n",
        "print(f'Precision: {precision:.6f}')\n",
        "print(f'Recall: {recall:.6f}')\n",
        "print(f'F1-score: {f1:.6f}')\n",
        "\n",
        "print(\"End testing the CNN\")\n",
        "\n",
        "# Free memory\n",
        "gc.collect()\n",
        "th.cuda.empty_cache()"
      ],
      "metadata": {
        "colab": {
          "base_uri": "https://localhost:8080/"
        },
        "id": "CBBUkJquokqI",
        "outputId": "c2b4d0ba-25c1-45dd-9c70-79896dceeda0"
      },
      "execution_count": 10,
      "outputs": [
        {
          "output_type": "stream",
          "name": "stdout",
          "text": [
            "Start testing the CNN\n",
            "Accuracy: 0.979094\n",
            "Precision: 0.958625\n",
            "Recall: 0.979094\n",
            "F1-score: 0.968752\n",
            "End testing the CNN\n"
          ]
        }
      ]
    },
    {
      "cell_type": "markdown",
      "source": [
        "*Train* of the **RNN** using the *Validation* set to check the performance."
      ],
      "metadata": {
        "id": "1G5i7_hGmvV7"
      }
    },
    {
      "cell_type": "code",
      "source": [
        "\"\"\"\n",
        "Class to create a Data Loader with X label and Y label together\n",
        "\"\"\"\n",
        "class CreateDataset(Dataset):\n",
        "    def __init__(self, data, labels):\n",
        "        self.data = data\n",
        "        self.labels = labels\n",
        "\n",
        "    def __len__(self):\n",
        "        return len(self.data)\n",
        "\n",
        "    def __getitem__(self, idx):\n",
        "        data_point = self.data[idx]\n",
        "        label = self.labels[idx]\n",
        "        return data_point, label\n",
        "\n",
        "# Create the Dataset\n",
        "train_dataset = CreateDataset(X_train, Y_train)\n",
        "val_dataset = CreateDataset(X_val, Y_val)\n",
        "test_dataset = CreateDataset(X_test, Y_test)\n",
        "\n",
        "# Create the Data Loader\n",
        "train_loader = DataLoader(train_dataset, batch_size=32, shuffle=True)\n",
        "val_loader = DataLoader(val_dataset, batch_size=32, shuffle=True)\n",
        "test_loader = DataLoader(test_dataset, batch_size=32, shuffle=True)"
      ],
      "metadata": {
        "id": "nfGNRl3pxyO3"
      },
      "execution_count": 11,
      "outputs": []
    },
    {
      "cell_type": "code",
      "source": [
        "# Model, loss function and optimizer\n",
        "model_LSTM = LSTM_Net().to(device)\n",
        "criterion = nn.CrossEntropyLoss()\n",
        "optimizer = th.optim.Adam(model_LSTM.parameters(), lr=0.001)\n",
        "\n",
        "# Training the model\n",
        "num_epochs = 7\n",
        "train_losses = []\n",
        "val_losses = []\n",
        "\n",
        "for epoch in range(num_epochs):\n",
        "    model_LSTM.train()\n",
        "    running_loss = 0.0\n",
        "    for i, (X_batch, Y_batch) in enumerate(train_loader):\n",
        "        X_batch = X_batch.to(device)\n",
        "        Y_batch = Y_batch.to(device)\n",
        "\n",
        "        # Forward pass\n",
        "        outputs = model_LSTM(X_batch.float())\n",
        "        loss = criterion(outputs, Y_batch)\n",
        "\n",
        "        # Backward pass and optimization\n",
        "        optimizer.zero_grad()\n",
        "        loss.backward()\n",
        "        optimizer.step()\n",
        "        running_loss += loss.item()\n",
        "\n",
        "    print(f\"Epoch {epoch+1}, Loss: {running_loss/len(train_loader)}\")\n",
        "    train_losses.append(running_loss/len(train_loader))\n",
        "\n",
        "    # Validation\n",
        "    model_LSTM.eval()\n",
        "    val_loss = 0.0\n",
        "    with th.no_grad():\n",
        "        for i, (X_val, Y_val) in enumerate(val_loader):\n",
        "            X_val = X_val.to(device)\n",
        "            Y_val = Y_val.to(device)\n",
        "\n",
        "            outputs = model_LSTM(X_val.float())\n",
        "            loss = criterion(outputs, Y_val)\n",
        "            val_loss += loss.item()\n",
        "\n",
        "    print(f\"Validation Loss: {val_loss/len(val_loader)}\")\n",
        "    val_losses.append(val_loss/len(val_loader))\n",
        "\n",
        "# Free memory\n",
        "gc.collect()\n",
        "th.cuda.empty_cache()"
      ],
      "metadata": {
        "id": "8ePulED-mxXd",
        "colab": {
          "base_uri": "https://localhost:8080/"
        },
        "outputId": "b4833004-54de-4475-db6e-4cfc664fda05"
      },
      "execution_count": 12,
      "outputs": [
        {
          "output_type": "stream",
          "name": "stdout",
          "text": [
            "Epoch 1, Loss: 0.10330718631357613\n",
            "Validation Loss: 0.10798104017517432\n",
            "Epoch 2, Loss: 0.10223952695334901\n",
            "Validation Loss: 0.10859172376319225\n",
            "Epoch 3, Loss: 0.10210768280195913\n",
            "Validation Loss: 0.10639776397703923\n",
            "Epoch 4, Loss: 0.10210261545678664\n",
            "Validation Loss: 0.10614951089313186\n",
            "Epoch 5, Loss: 0.10196824350852211\n",
            "Validation Loss: 0.10752571322876266\n",
            "Epoch 6, Loss: 0.10191200573168868\n",
            "Validation Loss: 0.10614447565816938\n",
            "Epoch 7, Loss: 0.10192599829531229\n",
            "Validation Loss: 0.10710592567469682\n"
          ]
        }
      ]
    },
    {
      "cell_type": "markdown",
      "source": [
        "**(OPTIONAL):** *Test* results forthe **RNN**."
      ],
      "metadata": {
        "id": "RCAvQnFzotd9"
      }
    },
    {
      "cell_type": "code",
      "source": [
        "print(\"Start testing the LSTM\")\n",
        "\n",
        "X_test = X_test.to(device).float()\n",
        "\n",
        "# Model ready for the evaluation\n",
        "model_LSTM.eval()\n",
        "\n",
        "# Testing the model\n",
        "with th.no_grad():\n",
        "    outputs = model_LSTM(X_test)\n",
        "    _, predicted = th.max(outputs, 1)\n",
        "\n",
        "# Convert the tensor to use scikit learn metrics\n",
        "y_true = Y_test.cpu().numpy()\n",
        "y_pred = predicted.cpu().numpy()\n",
        "\n",
        "# Metrics\n",
        "accuracy = accuracy_score(y_true, y_pred)\n",
        "precision = precision_score(y_true, y_pred, average='weighted', zero_division=0)\n",
        "recall = recall_score(y_true, y_pred, average='weighted')\n",
        "f1 = f1_score(y_true, y_pred, average='weighted')\n",
        "\n",
        "print(f'Accuracy: {accuracy:.6f}')\n",
        "print(f'Precision: {precision:.6f}')\n",
        "print(f'Recall: {recall:.6f}')\n",
        "print(f'F1-score: {f1:.6f}')\n",
        "\n",
        "print(\"End testing the LSTM\")\n",
        "\n",
        "# Free memory\n",
        "gc.collect()\n",
        "th.cuda.empty_cache()"
      ],
      "metadata": {
        "colab": {
          "base_uri": "https://localhost:8080/",
          "height": 425
        },
        "id": "Fc4lNi6IoqON",
        "outputId": "0287b3a5-2f07-46a3-8b1e-c64c29394fd1"
      },
      "execution_count": 13,
      "outputs": [
        {
          "output_type": "stream",
          "name": "stdout",
          "text": [
            "Start testing the LSTM\n"
          ]
        },
        {
          "output_type": "error",
          "ename": "OutOfMemoryError",
          "evalue": "CUDA out of memory. Tried to allocate 8.93 GiB. GPU ",
          "traceback": [
            "\u001b[0;31m---------------------------------------------------------------------------\u001b[0m",
            "\u001b[0;31mOutOfMemoryError\u001b[0m                          Traceback (most recent call last)",
            "\u001b[0;32m<ipython-input-13-4466f316185d>\u001b[0m in \u001b[0;36m<cell line: 9>\u001b[0;34m()\u001b[0m\n\u001b[1;32m      8\u001b[0m \u001b[0;31m# Testing the model\u001b[0m\u001b[0;34m\u001b[0m\u001b[0;34m\u001b[0m\u001b[0m\n\u001b[1;32m      9\u001b[0m \u001b[0;32mwith\u001b[0m \u001b[0mth\u001b[0m\u001b[0;34m.\u001b[0m\u001b[0mno_grad\u001b[0m\u001b[0;34m(\u001b[0m\u001b[0;34m)\u001b[0m\u001b[0;34m:\u001b[0m\u001b[0;34m\u001b[0m\u001b[0;34m\u001b[0m\u001b[0m\n\u001b[0;32m---> 10\u001b[0;31m     \u001b[0moutputs\u001b[0m \u001b[0;34m=\u001b[0m \u001b[0mmodel_LSTM\u001b[0m\u001b[0;34m(\u001b[0m\u001b[0mX_test\u001b[0m\u001b[0;34m)\u001b[0m\u001b[0;34m\u001b[0m\u001b[0;34m\u001b[0m\u001b[0m\n\u001b[0m\u001b[1;32m     11\u001b[0m     \u001b[0m_\u001b[0m\u001b[0;34m,\u001b[0m \u001b[0mpredicted\u001b[0m \u001b[0;34m=\u001b[0m \u001b[0mth\u001b[0m\u001b[0;34m.\u001b[0m\u001b[0mmax\u001b[0m\u001b[0;34m(\u001b[0m\u001b[0moutputs\u001b[0m\u001b[0;34m,\u001b[0m \u001b[0;36m1\u001b[0m\u001b[0;34m)\u001b[0m\u001b[0;34m\u001b[0m\u001b[0;34m\u001b[0m\u001b[0m\n\u001b[1;32m     12\u001b[0m \u001b[0;34m\u001b[0m\u001b[0m\n",
            "\u001b[0;32m/usr/local/lib/python3.10/dist-packages/torch/nn/modules/module.py\u001b[0m in \u001b[0;36m_wrapped_call_impl\u001b[0;34m(self, *args, **kwargs)\u001b[0m\n\u001b[1;32m   1530\u001b[0m             \u001b[0;32mreturn\u001b[0m \u001b[0mself\u001b[0m\u001b[0;34m.\u001b[0m\u001b[0m_compiled_call_impl\u001b[0m\u001b[0;34m(\u001b[0m\u001b[0;34m*\u001b[0m\u001b[0margs\u001b[0m\u001b[0;34m,\u001b[0m \u001b[0;34m**\u001b[0m\u001b[0mkwargs\u001b[0m\u001b[0;34m)\u001b[0m  \u001b[0;31m# type: ignore[misc]\u001b[0m\u001b[0;34m\u001b[0m\u001b[0;34m\u001b[0m\u001b[0m\n\u001b[1;32m   1531\u001b[0m         \u001b[0;32melse\u001b[0m\u001b[0;34m:\u001b[0m\u001b[0;34m\u001b[0m\u001b[0;34m\u001b[0m\u001b[0m\n\u001b[0;32m-> 1532\u001b[0;31m             \u001b[0;32mreturn\u001b[0m \u001b[0mself\u001b[0m\u001b[0;34m.\u001b[0m\u001b[0m_call_impl\u001b[0m\u001b[0;34m(\u001b[0m\u001b[0;34m*\u001b[0m\u001b[0margs\u001b[0m\u001b[0;34m,\u001b[0m \u001b[0;34m**\u001b[0m\u001b[0mkwargs\u001b[0m\u001b[0;34m)\u001b[0m\u001b[0;34m\u001b[0m\u001b[0;34m\u001b[0m\u001b[0m\n\u001b[0m\u001b[1;32m   1533\u001b[0m \u001b[0;34m\u001b[0m\u001b[0m\n\u001b[1;32m   1534\u001b[0m     \u001b[0;32mdef\u001b[0m \u001b[0m_call_impl\u001b[0m\u001b[0;34m(\u001b[0m\u001b[0mself\u001b[0m\u001b[0;34m,\u001b[0m \u001b[0;34m*\u001b[0m\u001b[0margs\u001b[0m\u001b[0;34m,\u001b[0m \u001b[0;34m**\u001b[0m\u001b[0mkwargs\u001b[0m\u001b[0;34m)\u001b[0m\u001b[0;34m:\u001b[0m\u001b[0;34m\u001b[0m\u001b[0;34m\u001b[0m\u001b[0m\n",
            "\u001b[0;32m/usr/local/lib/python3.10/dist-packages/torch/nn/modules/module.py\u001b[0m in \u001b[0;36m_call_impl\u001b[0;34m(self, *args, **kwargs)\u001b[0m\n\u001b[1;32m   1539\u001b[0m                 \u001b[0;32mor\u001b[0m \u001b[0m_global_backward_pre_hooks\u001b[0m \u001b[0;32mor\u001b[0m \u001b[0m_global_backward_hooks\u001b[0m\u001b[0;34m\u001b[0m\u001b[0;34m\u001b[0m\u001b[0m\n\u001b[1;32m   1540\u001b[0m                 or _global_forward_hooks or _global_forward_pre_hooks):\n\u001b[0;32m-> 1541\u001b[0;31m             \u001b[0;32mreturn\u001b[0m \u001b[0mforward_call\u001b[0m\u001b[0;34m(\u001b[0m\u001b[0;34m*\u001b[0m\u001b[0margs\u001b[0m\u001b[0;34m,\u001b[0m \u001b[0;34m**\u001b[0m\u001b[0mkwargs\u001b[0m\u001b[0;34m)\u001b[0m\u001b[0;34m\u001b[0m\u001b[0;34m\u001b[0m\u001b[0m\n\u001b[0m\u001b[1;32m   1542\u001b[0m \u001b[0;34m\u001b[0m\u001b[0m\n\u001b[1;32m   1543\u001b[0m         \u001b[0;32mtry\u001b[0m\u001b[0;34m:\u001b[0m\u001b[0;34m\u001b[0m\u001b[0;34m\u001b[0m\u001b[0m\n",
            "\u001b[0;32m<ipython-input-6-1d4b69ace3ee>\u001b[0m in \u001b[0;36mforward\u001b[0;34m(self, x)\u001b[0m\n\u001b[1;32m     19\u001b[0m \u001b[0;34m\u001b[0m\u001b[0m\n\u001b[1;32m     20\u001b[0m         \u001b[0mx\u001b[0m \u001b[0;34m=\u001b[0m \u001b[0mx\u001b[0m\u001b[0;34m.\u001b[0m\u001b[0mpermute\u001b[0m\u001b[0;34m(\u001b[0m\u001b[0;36m0\u001b[0m\u001b[0;34m,\u001b[0m \u001b[0;36m2\u001b[0m\u001b[0;34m,\u001b[0m \u001b[0;36m1\u001b[0m\u001b[0;34m)\u001b[0m\u001b[0;34m\u001b[0m\u001b[0;34m\u001b[0m\u001b[0m\n\u001b[0;32m---> 21\u001b[0;31m         \u001b[0mx\u001b[0m\u001b[0;34m,\u001b[0m \u001b[0m_\u001b[0m \u001b[0;34m=\u001b[0m \u001b[0mself\u001b[0m\u001b[0;34m.\u001b[0m\u001b[0mlstm\u001b[0m\u001b[0;34m(\u001b[0m\u001b[0mx\u001b[0m\u001b[0;34m)\u001b[0m\u001b[0;34m\u001b[0m\u001b[0;34m\u001b[0m\u001b[0m\n\u001b[0m\u001b[1;32m     22\u001b[0m \u001b[0;34m\u001b[0m\u001b[0m\n\u001b[1;32m     23\u001b[0m         \u001b[0mx\u001b[0m \u001b[0;34m=\u001b[0m \u001b[0mx\u001b[0m\u001b[0;34m[\u001b[0m\u001b[0;34m:\u001b[0m\u001b[0;34m,\u001b[0m \u001b[0;34m-\u001b[0m\u001b[0;36m1\u001b[0m\u001b[0;34m,\u001b[0m \u001b[0;34m:\u001b[0m\u001b[0;34m]\u001b[0m\u001b[0;34m\u001b[0m\u001b[0;34m\u001b[0m\u001b[0m\n",
            "\u001b[0;32m/usr/local/lib/python3.10/dist-packages/torch/nn/modules/module.py\u001b[0m in \u001b[0;36m_wrapped_call_impl\u001b[0;34m(self, *args, **kwargs)\u001b[0m\n\u001b[1;32m   1530\u001b[0m             \u001b[0;32mreturn\u001b[0m \u001b[0mself\u001b[0m\u001b[0;34m.\u001b[0m\u001b[0m_compiled_call_impl\u001b[0m\u001b[0;34m(\u001b[0m\u001b[0;34m*\u001b[0m\u001b[0margs\u001b[0m\u001b[0;34m,\u001b[0m \u001b[0;34m**\u001b[0m\u001b[0mkwargs\u001b[0m\u001b[0;34m)\u001b[0m  \u001b[0;31m# type: ignore[misc]\u001b[0m\u001b[0;34m\u001b[0m\u001b[0;34m\u001b[0m\u001b[0m\n\u001b[1;32m   1531\u001b[0m         \u001b[0;32melse\u001b[0m\u001b[0;34m:\u001b[0m\u001b[0;34m\u001b[0m\u001b[0;34m\u001b[0m\u001b[0m\n\u001b[0;32m-> 1532\u001b[0;31m             \u001b[0;32mreturn\u001b[0m \u001b[0mself\u001b[0m\u001b[0;34m.\u001b[0m\u001b[0m_call_impl\u001b[0m\u001b[0;34m(\u001b[0m\u001b[0;34m*\u001b[0m\u001b[0margs\u001b[0m\u001b[0;34m,\u001b[0m \u001b[0;34m**\u001b[0m\u001b[0mkwargs\u001b[0m\u001b[0;34m)\u001b[0m\u001b[0;34m\u001b[0m\u001b[0;34m\u001b[0m\u001b[0m\n\u001b[0m\u001b[1;32m   1533\u001b[0m \u001b[0;34m\u001b[0m\u001b[0m\n\u001b[1;32m   1534\u001b[0m     \u001b[0;32mdef\u001b[0m \u001b[0m_call_impl\u001b[0m\u001b[0;34m(\u001b[0m\u001b[0mself\u001b[0m\u001b[0;34m,\u001b[0m \u001b[0;34m*\u001b[0m\u001b[0margs\u001b[0m\u001b[0;34m,\u001b[0m \u001b[0;34m**\u001b[0m\u001b[0mkwargs\u001b[0m\u001b[0;34m)\u001b[0m\u001b[0;34m:\u001b[0m\u001b[0;34m\u001b[0m\u001b[0;34m\u001b[0m\u001b[0m\n",
            "\u001b[0;32m/usr/local/lib/python3.10/dist-packages/torch/nn/modules/module.py\u001b[0m in \u001b[0;36m_call_impl\u001b[0;34m(self, *args, **kwargs)\u001b[0m\n\u001b[1;32m   1539\u001b[0m                 \u001b[0;32mor\u001b[0m \u001b[0m_global_backward_pre_hooks\u001b[0m \u001b[0;32mor\u001b[0m \u001b[0m_global_backward_hooks\u001b[0m\u001b[0;34m\u001b[0m\u001b[0;34m\u001b[0m\u001b[0m\n\u001b[1;32m   1540\u001b[0m                 or _global_forward_hooks or _global_forward_pre_hooks):\n\u001b[0;32m-> 1541\u001b[0;31m             \u001b[0;32mreturn\u001b[0m \u001b[0mforward_call\u001b[0m\u001b[0;34m(\u001b[0m\u001b[0;34m*\u001b[0m\u001b[0margs\u001b[0m\u001b[0;34m,\u001b[0m \u001b[0;34m**\u001b[0m\u001b[0mkwargs\u001b[0m\u001b[0;34m)\u001b[0m\u001b[0;34m\u001b[0m\u001b[0;34m\u001b[0m\u001b[0m\n\u001b[0m\u001b[1;32m   1542\u001b[0m \u001b[0;34m\u001b[0m\u001b[0m\n\u001b[1;32m   1543\u001b[0m         \u001b[0;32mtry\u001b[0m\u001b[0;34m:\u001b[0m\u001b[0;34m\u001b[0m\u001b[0;34m\u001b[0m\u001b[0m\n",
            "\u001b[0;32m/usr/local/lib/python3.10/dist-packages/torch/nn/modules/rnn.py\u001b[0m in \u001b[0;36mforward\u001b[0;34m(self, input, hx)\u001b[0m\n\u001b[1;32m    909\u001b[0m \u001b[0;34m\u001b[0m\u001b[0m\n\u001b[1;32m    910\u001b[0m         \u001b[0;32mif\u001b[0m \u001b[0mbatch_sizes\u001b[0m \u001b[0;32mis\u001b[0m \u001b[0;32mNone\u001b[0m\u001b[0;34m:\u001b[0m\u001b[0;34m\u001b[0m\u001b[0;34m\u001b[0m\u001b[0m\n\u001b[0;32m--> 911\u001b[0;31m             result = _VF.lstm(input, hx, self._flat_weights, self.bias, self.num_layers,\n\u001b[0m\u001b[1;32m    912\u001b[0m                               self.dropout, self.training, self.bidirectional, self.batch_first)\n\u001b[1;32m    913\u001b[0m         \u001b[0;32melse\u001b[0m\u001b[0;34m:\u001b[0m\u001b[0;34m\u001b[0m\u001b[0;34m\u001b[0m\u001b[0m\n",
            "\u001b[0;31mOutOfMemoryError\u001b[0m: CUDA out of memory. Tried to allocate 8.93 GiB. GPU "
          ]
        }
      ]
    },
    {
      "cell_type": "markdown",
      "source": [
        "Implementation of the **Ensemble Learning** using an **SVM** (stacking ensemble learing)."
      ],
      "metadata": {
        "id": "oOhwQoMemxyv"
      }
    },
    {
      "cell_type": "code",
      "source": [
        "\"\"\"\n",
        "An SVM takes in input the results from the CNN and RNN and then it preforms the final classification.\n",
        "\n",
        "I have to use skitlearn to do the ensable learing because the library is only avaiable on it!\n",
        "\"\"\"\n",
        "\n",
        "\"\"\"\n",
        "Function that, given a model and a dataset, it returns all the predictions (outputs)\n",
        "\"\"\"\n",
        "def get_predictions(model_pred, dataset):\n",
        "    model_pred.eval()\n",
        "    all_preds = []\n",
        "    with th.no_grad():\n",
        "      outputs = model_LSTM(X_test)\n",
        "      _, predicted = th.max(outputs, 1)\n",
        "    return predicted\n",
        "\n",
        "# Prepare the prediction for the training model\n",
        "CNN_train_preds = get_predictions(model_CNN, X_train)\n",
        "LSTM_train_preds = get_predictions(model_LSTM, X_train)\n",
        "\n",
        "# Prepare the prediction for the testing model\n",
        "CNN_test_preds = get_predictions(model_CNN, X_test)\n",
        "LSTM_test_preds = get_predictions(model_LSTM, X_test)\n",
        "\n",
        "# Concatenate the two inputs\n",
        "X_train_meta = np.hstack((CNN_train_preds, LSTM_train_preds))\n",
        "X_test_meta = np.hstack((CNN_test_preds, LSTM_test_preds))\n",
        "\n",
        "# Free memory\n",
        "gc.collect()\n",
        "th.cuda.empty_cache()"
      ],
      "metadata": {
        "colab": {
          "base_uri": "https://localhost:8080/",
          "height": 408
        },
        "id": "5PlI9nhBiojA",
        "outputId": "36e8d6a2-7758-4027-8436-5134c76dee1c"
      },
      "execution_count": 14,
      "outputs": [
        {
          "output_type": "error",
          "ename": "OutOfMemoryError",
          "evalue": "CUDA out of memory. Tried to allocate 8.93 GiB. GPU ",
          "traceback": [
            "\u001b[0;31m---------------------------------------------------------------------------\u001b[0m",
            "\u001b[0;31mOutOfMemoryError\u001b[0m                          Traceback (most recent call last)",
            "\u001b[0;32m<ipython-input-14-c44da1f847a5>\u001b[0m in \u001b[0;36m<cell line: 19>\u001b[0;34m()\u001b[0m\n\u001b[1;32m     17\u001b[0m \u001b[0;34m\u001b[0m\u001b[0m\n\u001b[1;32m     18\u001b[0m \u001b[0;31m# Prepare the prediction for the training model\u001b[0m\u001b[0;34m\u001b[0m\u001b[0;34m\u001b[0m\u001b[0m\n\u001b[0;32m---> 19\u001b[0;31m \u001b[0mCNN_train_preds\u001b[0m \u001b[0;34m=\u001b[0m \u001b[0mget_predictions\u001b[0m\u001b[0;34m(\u001b[0m\u001b[0mmodel_CNN\u001b[0m\u001b[0;34m,\u001b[0m \u001b[0mX_train\u001b[0m\u001b[0;34m)\u001b[0m\u001b[0;34m\u001b[0m\u001b[0;34m\u001b[0m\u001b[0m\n\u001b[0m\u001b[1;32m     20\u001b[0m \u001b[0mLSTM_train_preds\u001b[0m \u001b[0;34m=\u001b[0m \u001b[0mget_predictions\u001b[0m\u001b[0;34m(\u001b[0m\u001b[0mmodel_LSTM\u001b[0m\u001b[0;34m,\u001b[0m \u001b[0mX_train\u001b[0m\u001b[0;34m)\u001b[0m\u001b[0;34m\u001b[0m\u001b[0;34m\u001b[0m\u001b[0m\n\u001b[1;32m     21\u001b[0m \u001b[0;34m\u001b[0m\u001b[0m\n",
            "\u001b[0;32m<ipython-input-14-c44da1f847a5>\u001b[0m in \u001b[0;36mget_predictions\u001b[0;34m(model_pred, dataset)\u001b[0m\n\u001b[1;32m     12\u001b[0m     \u001b[0mall_preds\u001b[0m \u001b[0;34m=\u001b[0m \u001b[0;34m[\u001b[0m\u001b[0;34m]\u001b[0m\u001b[0;34m\u001b[0m\u001b[0;34m\u001b[0m\u001b[0m\n\u001b[1;32m     13\u001b[0m     \u001b[0;32mwith\u001b[0m \u001b[0mth\u001b[0m\u001b[0;34m.\u001b[0m\u001b[0mno_grad\u001b[0m\u001b[0;34m(\u001b[0m\u001b[0;34m)\u001b[0m\u001b[0;34m:\u001b[0m\u001b[0;34m\u001b[0m\u001b[0;34m\u001b[0m\u001b[0m\n\u001b[0;32m---> 14\u001b[0;31m       \u001b[0moutputs\u001b[0m \u001b[0;34m=\u001b[0m \u001b[0mmodel_LSTM\u001b[0m\u001b[0;34m(\u001b[0m\u001b[0mX_test\u001b[0m\u001b[0;34m)\u001b[0m\u001b[0;34m\u001b[0m\u001b[0;34m\u001b[0m\u001b[0m\n\u001b[0m\u001b[1;32m     15\u001b[0m       \u001b[0m_\u001b[0m\u001b[0;34m,\u001b[0m \u001b[0mpredicted\u001b[0m \u001b[0;34m=\u001b[0m \u001b[0mth\u001b[0m\u001b[0;34m.\u001b[0m\u001b[0mmax\u001b[0m\u001b[0;34m(\u001b[0m\u001b[0moutputs\u001b[0m\u001b[0;34m,\u001b[0m \u001b[0;36m1\u001b[0m\u001b[0;34m)\u001b[0m\u001b[0;34m\u001b[0m\u001b[0;34m\u001b[0m\u001b[0m\n\u001b[1;32m     16\u001b[0m     \u001b[0;32mreturn\u001b[0m \u001b[0mpredicted\u001b[0m\u001b[0;34m\u001b[0m\u001b[0;34m\u001b[0m\u001b[0m\n",
            "\u001b[0;32m/usr/local/lib/python3.10/dist-packages/torch/nn/modules/module.py\u001b[0m in \u001b[0;36m_wrapped_call_impl\u001b[0;34m(self, *args, **kwargs)\u001b[0m\n\u001b[1;32m   1530\u001b[0m             \u001b[0;32mreturn\u001b[0m \u001b[0mself\u001b[0m\u001b[0;34m.\u001b[0m\u001b[0m_compiled_call_impl\u001b[0m\u001b[0;34m(\u001b[0m\u001b[0;34m*\u001b[0m\u001b[0margs\u001b[0m\u001b[0;34m,\u001b[0m \u001b[0;34m**\u001b[0m\u001b[0mkwargs\u001b[0m\u001b[0;34m)\u001b[0m  \u001b[0;31m# type: ignore[misc]\u001b[0m\u001b[0;34m\u001b[0m\u001b[0;34m\u001b[0m\u001b[0m\n\u001b[1;32m   1531\u001b[0m         \u001b[0;32melse\u001b[0m\u001b[0;34m:\u001b[0m\u001b[0;34m\u001b[0m\u001b[0;34m\u001b[0m\u001b[0m\n\u001b[0;32m-> 1532\u001b[0;31m             \u001b[0;32mreturn\u001b[0m \u001b[0mself\u001b[0m\u001b[0;34m.\u001b[0m\u001b[0m_call_impl\u001b[0m\u001b[0;34m(\u001b[0m\u001b[0;34m*\u001b[0m\u001b[0margs\u001b[0m\u001b[0;34m,\u001b[0m \u001b[0;34m**\u001b[0m\u001b[0mkwargs\u001b[0m\u001b[0;34m)\u001b[0m\u001b[0;34m\u001b[0m\u001b[0;34m\u001b[0m\u001b[0m\n\u001b[0m\u001b[1;32m   1533\u001b[0m \u001b[0;34m\u001b[0m\u001b[0m\n\u001b[1;32m   1534\u001b[0m     \u001b[0;32mdef\u001b[0m \u001b[0m_call_impl\u001b[0m\u001b[0;34m(\u001b[0m\u001b[0mself\u001b[0m\u001b[0;34m,\u001b[0m \u001b[0;34m*\u001b[0m\u001b[0margs\u001b[0m\u001b[0;34m,\u001b[0m \u001b[0;34m**\u001b[0m\u001b[0mkwargs\u001b[0m\u001b[0;34m)\u001b[0m\u001b[0;34m:\u001b[0m\u001b[0;34m\u001b[0m\u001b[0;34m\u001b[0m\u001b[0m\n",
            "\u001b[0;32m/usr/local/lib/python3.10/dist-packages/torch/nn/modules/module.py\u001b[0m in \u001b[0;36m_call_impl\u001b[0;34m(self, *args, **kwargs)\u001b[0m\n\u001b[1;32m   1539\u001b[0m                 \u001b[0;32mor\u001b[0m \u001b[0m_global_backward_pre_hooks\u001b[0m \u001b[0;32mor\u001b[0m \u001b[0m_global_backward_hooks\u001b[0m\u001b[0;34m\u001b[0m\u001b[0;34m\u001b[0m\u001b[0m\n\u001b[1;32m   1540\u001b[0m                 or _global_forward_hooks or _global_forward_pre_hooks):\n\u001b[0;32m-> 1541\u001b[0;31m             \u001b[0;32mreturn\u001b[0m \u001b[0mforward_call\u001b[0m\u001b[0;34m(\u001b[0m\u001b[0;34m*\u001b[0m\u001b[0margs\u001b[0m\u001b[0;34m,\u001b[0m \u001b[0;34m**\u001b[0m\u001b[0mkwargs\u001b[0m\u001b[0;34m)\u001b[0m\u001b[0;34m\u001b[0m\u001b[0;34m\u001b[0m\u001b[0m\n\u001b[0m\u001b[1;32m   1542\u001b[0m \u001b[0;34m\u001b[0m\u001b[0m\n\u001b[1;32m   1543\u001b[0m         \u001b[0;32mtry\u001b[0m\u001b[0;34m:\u001b[0m\u001b[0;34m\u001b[0m\u001b[0;34m\u001b[0m\u001b[0m\n",
            "\u001b[0;32m<ipython-input-6-1d4b69ace3ee>\u001b[0m in \u001b[0;36mforward\u001b[0;34m(self, x)\u001b[0m\n\u001b[1;32m     19\u001b[0m \u001b[0;34m\u001b[0m\u001b[0m\n\u001b[1;32m     20\u001b[0m         \u001b[0mx\u001b[0m \u001b[0;34m=\u001b[0m \u001b[0mx\u001b[0m\u001b[0;34m.\u001b[0m\u001b[0mpermute\u001b[0m\u001b[0;34m(\u001b[0m\u001b[0;36m0\u001b[0m\u001b[0;34m,\u001b[0m \u001b[0;36m2\u001b[0m\u001b[0;34m,\u001b[0m \u001b[0;36m1\u001b[0m\u001b[0;34m)\u001b[0m\u001b[0;34m\u001b[0m\u001b[0;34m\u001b[0m\u001b[0m\n\u001b[0;32m---> 21\u001b[0;31m         \u001b[0mx\u001b[0m\u001b[0;34m,\u001b[0m \u001b[0m_\u001b[0m \u001b[0;34m=\u001b[0m \u001b[0mself\u001b[0m\u001b[0;34m.\u001b[0m\u001b[0mlstm\u001b[0m\u001b[0;34m(\u001b[0m\u001b[0mx\u001b[0m\u001b[0;34m)\u001b[0m\u001b[0;34m\u001b[0m\u001b[0;34m\u001b[0m\u001b[0m\n\u001b[0m\u001b[1;32m     22\u001b[0m \u001b[0;34m\u001b[0m\u001b[0m\n\u001b[1;32m     23\u001b[0m         \u001b[0mx\u001b[0m \u001b[0;34m=\u001b[0m \u001b[0mx\u001b[0m\u001b[0;34m[\u001b[0m\u001b[0;34m:\u001b[0m\u001b[0;34m,\u001b[0m \u001b[0;34m-\u001b[0m\u001b[0;36m1\u001b[0m\u001b[0;34m,\u001b[0m \u001b[0;34m:\u001b[0m\u001b[0;34m]\u001b[0m\u001b[0;34m\u001b[0m\u001b[0;34m\u001b[0m\u001b[0m\n",
            "\u001b[0;32m/usr/local/lib/python3.10/dist-packages/torch/nn/modules/module.py\u001b[0m in \u001b[0;36m_wrapped_call_impl\u001b[0;34m(self, *args, **kwargs)\u001b[0m\n\u001b[1;32m   1530\u001b[0m             \u001b[0;32mreturn\u001b[0m \u001b[0mself\u001b[0m\u001b[0;34m.\u001b[0m\u001b[0m_compiled_call_impl\u001b[0m\u001b[0;34m(\u001b[0m\u001b[0;34m*\u001b[0m\u001b[0margs\u001b[0m\u001b[0;34m,\u001b[0m \u001b[0;34m**\u001b[0m\u001b[0mkwargs\u001b[0m\u001b[0;34m)\u001b[0m  \u001b[0;31m# type: ignore[misc]\u001b[0m\u001b[0;34m\u001b[0m\u001b[0;34m\u001b[0m\u001b[0m\n\u001b[1;32m   1531\u001b[0m         \u001b[0;32melse\u001b[0m\u001b[0;34m:\u001b[0m\u001b[0;34m\u001b[0m\u001b[0;34m\u001b[0m\u001b[0m\n\u001b[0;32m-> 1532\u001b[0;31m             \u001b[0;32mreturn\u001b[0m \u001b[0mself\u001b[0m\u001b[0;34m.\u001b[0m\u001b[0m_call_impl\u001b[0m\u001b[0;34m(\u001b[0m\u001b[0;34m*\u001b[0m\u001b[0margs\u001b[0m\u001b[0;34m,\u001b[0m \u001b[0;34m**\u001b[0m\u001b[0mkwargs\u001b[0m\u001b[0;34m)\u001b[0m\u001b[0;34m\u001b[0m\u001b[0;34m\u001b[0m\u001b[0m\n\u001b[0m\u001b[1;32m   1533\u001b[0m \u001b[0;34m\u001b[0m\u001b[0m\n\u001b[1;32m   1534\u001b[0m     \u001b[0;32mdef\u001b[0m \u001b[0m_call_impl\u001b[0m\u001b[0;34m(\u001b[0m\u001b[0mself\u001b[0m\u001b[0;34m,\u001b[0m \u001b[0;34m*\u001b[0m\u001b[0margs\u001b[0m\u001b[0;34m,\u001b[0m \u001b[0;34m**\u001b[0m\u001b[0mkwargs\u001b[0m\u001b[0;34m)\u001b[0m\u001b[0;34m:\u001b[0m\u001b[0;34m\u001b[0m\u001b[0;34m\u001b[0m\u001b[0m\n",
            "\u001b[0;32m/usr/local/lib/python3.10/dist-packages/torch/nn/modules/module.py\u001b[0m in \u001b[0;36m_call_impl\u001b[0;34m(self, *args, **kwargs)\u001b[0m\n\u001b[1;32m   1539\u001b[0m                 \u001b[0;32mor\u001b[0m \u001b[0m_global_backward_pre_hooks\u001b[0m \u001b[0;32mor\u001b[0m \u001b[0m_global_backward_hooks\u001b[0m\u001b[0;34m\u001b[0m\u001b[0;34m\u001b[0m\u001b[0m\n\u001b[1;32m   1540\u001b[0m                 or _global_forward_hooks or _global_forward_pre_hooks):\n\u001b[0;32m-> 1541\u001b[0;31m             \u001b[0;32mreturn\u001b[0m \u001b[0mforward_call\u001b[0m\u001b[0;34m(\u001b[0m\u001b[0;34m*\u001b[0m\u001b[0margs\u001b[0m\u001b[0;34m,\u001b[0m \u001b[0;34m**\u001b[0m\u001b[0mkwargs\u001b[0m\u001b[0;34m)\u001b[0m\u001b[0;34m\u001b[0m\u001b[0;34m\u001b[0m\u001b[0m\n\u001b[0m\u001b[1;32m   1542\u001b[0m \u001b[0;34m\u001b[0m\u001b[0m\n\u001b[1;32m   1543\u001b[0m         \u001b[0;32mtry\u001b[0m\u001b[0;34m:\u001b[0m\u001b[0;34m\u001b[0m\u001b[0;34m\u001b[0m\u001b[0m\n",
            "\u001b[0;32m/usr/local/lib/python3.10/dist-packages/torch/nn/modules/rnn.py\u001b[0m in \u001b[0;36mforward\u001b[0;34m(self, input, hx)\u001b[0m\n\u001b[1;32m    909\u001b[0m \u001b[0;34m\u001b[0m\u001b[0m\n\u001b[1;32m    910\u001b[0m         \u001b[0;32mif\u001b[0m \u001b[0mbatch_sizes\u001b[0m \u001b[0;32mis\u001b[0m \u001b[0;32mNone\u001b[0m\u001b[0;34m:\u001b[0m\u001b[0;34m\u001b[0m\u001b[0;34m\u001b[0m\u001b[0m\n\u001b[0;32m--> 911\u001b[0;31m             result = _VF.lstm(input, hx, self._flat_weights, self.bias, self.num_layers,\n\u001b[0m\u001b[1;32m    912\u001b[0m                               self.dropout, self.training, self.bidirectional, self.batch_first)\n\u001b[1;32m    913\u001b[0m         \u001b[0;32melse\u001b[0m\u001b[0;34m:\u001b[0m\u001b[0;34m\u001b[0m\u001b[0;34m\u001b[0m\u001b[0m\n",
            "\u001b[0;31mOutOfMemoryError\u001b[0m: CUDA out of memory. Tried to allocate 8.93 GiB. GPU "
          ]
        }
      ]
    },
    {
      "cell_type": "code",
      "source": [
        "# We use a polynomial SVM for the final classification\n",
        "model_SVM = SVC(kernel = 'poly', probability = True)\n",
        "\n",
        "model_SVM.fit(X_train_meta, Y_train.ravel())"
      ],
      "metadata": {
        "id": "f0X4pYiTm7Lm"
      },
      "execution_count": null,
      "outputs": []
    },
    {
      "cell_type": "markdown",
      "source": [
        "**Test** of the performance."
      ],
      "metadata": {
        "id": "PaBpALEtmo0G"
      }
    },
    {
      "cell_type": "code",
      "source": [
        "print(\"Start testing the final model\")\n",
        "\n",
        "# I convert the data (if needed)\n",
        "y_true = Y_test.cpu().numpy() if isinstance(Y_test, th.Tensor) else Y_test\n",
        "\n",
        "# Testing the meta-model: SVM\n",
        "y_pred = model_SVM.predict(X_test_meta)\n",
        "\n",
        "# Metrics\n",
        "accuracy = accuracy_score(y_true, y_pred)\n",
        "precision = precision_score(y_true, y_pred, average='weighted', zero_division=0)\n",
        "recall = recall_score(y_true, y_pred, average='weighted')\n",
        "f1 = f1_score(y_true, y_pred, average='weighted')\n",
        "\n",
        "print(f'Accuracy: {accuracy:.6f}')\n",
        "print(f'Precision: {precision:.6f}')\n",
        "print(f'Recall: {recall:.6f}')\n",
        "print(f'F1-score: {f1:.6f}')\n",
        "\n",
        "print(\"End testing the final model\")"
      ],
      "metadata": {
        "id": "c8YnAeVfmlAC"
      },
      "execution_count": null,
      "outputs": []
    }
  ]
}