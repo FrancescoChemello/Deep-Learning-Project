{
  "nbformat": 4,
  "nbformat_minor": 0,
  "metadata": {
    "colab": {
      "provenance": [],
      "include_colab_link": true
    },
    "kernelspec": {
      "name": "python3",
      "display_name": "Python 3"
    },
    "language_info": {
      "name": "python"
    }
  },
  "cells": [
    {
      "cell_type": "markdown",
      "metadata": {
        "id": "view-in-github",
        "colab_type": "text"
      },
      "source": [
        "<a href=\"https://colab.research.google.com/github/gabi-farias/Deep-Learning-Project/blob/main/BRNN.ipynb\" target=\"_parent\"><img src=\"https://colab.research.google.com/assets/colab-badge.svg\" alt=\"Open In Colab\"/></a>"
      ]
    },
    {
      "cell_type": "markdown",
      "source": [
        "Deep learning project aa 2023/24"
      ],
      "metadata": {
        "id": "-lP0Ty_LPOPx"
      }
    },
    {
      "cell_type": "markdown",
      "source": [
        "Libraries"
      ],
      "metadata": {
        "id": "RXCvJMNiPWPb"
      }
    },
    {
      "cell_type": "code",
      "execution_count": null,
      "metadata": {
        "id": "czu9e1vBNszI"
      },
      "outputs": [],
      "source": [
        "import os\n",
        "import threading\n",
        "import time\n",
        "import sys\n",
        "\n",
        "import torch as th\n",
        "import torch.nn as nn\n",
        "import numpy as np\n",
        "import pandas as pd\n",
        "import tensorflow as tf\n",
        "import torch.optim as optim\n",
        "import torch.nn.functional as F\n",
        "\n",
        "# For the progress bar\n",
        "from tqdm import tqdm"
      ]
    },
    {
      "cell_type": "markdown",
      "source": [
        "Function that perform the onehot encoding"
      ],
      "metadata": {
        "id": "8qIn2_aoP_Om"
      }
    },
    {
      "cell_type": "code",
      "source": [
        "def onehot_encoder(dataset):\n",
        "    \"\"\"\n",
        "    Function that encodes a DNA dataset into a onehot encoding dataset.\n",
        "    \"\"\"\n",
        "    onehot_dataset = [dna_onehot_encoder(dna_string) for dna_string in dataset]\n",
        "    onehot_dataset_numpy = np.array(onehot_dataset)\n",
        "\n",
        "    return onehot_dataset_numpy\n",
        "\n",
        "\n",
        "def dna_onehot_encoder(dna_sequence):\n",
        "    \"\"\"\n",
        "    Function that encodes a single DNA string into a onehot encoding string.\n",
        "    \"\"\"\n",
        "    onehot_dict = {\n",
        "        'A' : [1, 0, 0, 0],\n",
        "        'C' : [0, 1, 0, 0],\n",
        "        'G' : [0, 0, 1, 0],\n",
        "        'T' : [0, 0, 0, 1]\n",
        "    }\n",
        "    encoder = [onehot_dict[nuc] for nuc in dna_sequence]\n",
        "\n",
        "    return encoder"
      ],
      "metadata": {
        "id": "Jbw00zSUP9u5"
      },
      "execution_count": null,
      "outputs": []
    },
    {
      "cell_type": "markdown",
      "source": [
        "Data encoding"
      ],
      "metadata": {
        "id": "CQstKCYgQSfe"
      }
    },
    {
      "cell_type": "code",
      "source": [
        "#! - TESTER\n",
        "path = 'fullset_test.csv'\n",
        "\n",
        "# Read the input from the csv file\n",
        "csv = pd.read_csv(path, sep=\",\")\n",
        "# Drop the NaN values\n",
        "csv = csv.dropna()\n",
        "# Describe the data\n",
        "csv.describe()\n",
        "\n",
        "# Get the data from the csv file\n",
        "data = csv.values\n",
        "# m = number of input samples\n",
        "m = data.shape[0]\n",
        "print(\"Amount of data:\",m)\n",
        "X = data[:m,1]\n",
        "Y = data[:m,2].astype(np.int32)\n",
        "\n",
        "# # Reduce the size of the dataset for testing\n",
        "m = 5\n",
        "X = X[:m]\n",
        "Y = Y[:m]\n",
        "\n",
        "# OneHot encoding for the training data\n",
        "print(\"Start onehot encoding for the training data\")\n",
        "X = onehot_encoder(X)\n",
        "\n",
        "# Convert the data to a tensor\n",
        "X = th.tensor(X)\n",
        "Y = th.tensor(Y)\n",
        "\n",
        "print(\"X_train shape: \", X.shape)\n",
        "print(\"Y_train shape: \", Y.shape)\n",
        "\n",
        "# Free memory\n",
        "del csv, data, m"
      ],
      "metadata": {
        "colab": {
          "base_uri": "https://localhost:8080/"
        },
        "id": "uG5yeDaP5UYO",
        "outputId": "9d85585a-8445-4e69-f799-1341bc15cf33"
      },
      "execution_count": null,
      "outputs": [
        {
          "output_type": "stream",
          "name": "stdout",
          "text": [
            "Amount of data: 26404\n",
            "Start onehot encoding for the training data\n",
            "X_train shape:  torch.Size([5, 300, 4])\n",
            "Y_train shape:  torch.Size([5])\n"
          ]
        }
      ]
    },
    {
      "cell_type": "code",
      "source": [
        "#!- MAIN\n",
        "\n",
        "# Set the device to be used (GPU or CPU)\n",
        "device = th.device(\"cuda\" if th.cuda.is_available() else \"cpu\")\n",
        "print(\"Device: \", device)\n",
        "\n",
        "# Read the input from the cvc file\n",
        "rel_path_train = 'fullset_train.csv'\n",
        "rel_path_val = 'fullset_validation.csv'\n",
        "rel_path_test = 'fullset_test.csv'\n",
        "\n",
        "# Training Set\n",
        "\n",
        "# Read the input from the csv file\n",
        "train_csv = pd.read_csv(rel_path_train, sep=\",\")\n",
        "# Drop the NaN values\n",
        "train_csv = train_csv.dropna()\n",
        "# Describe the data\n",
        "train_csv.describe()\n",
        "\n",
        "# Get the data from the csv file\n",
        "train_data = train_csv.values\n",
        "# m = number of input samples\n",
        "m = train_data.shape[0]\n",
        "print(\"Amount of data:\",m)\n",
        "X_train = train_data[:m,1]\n",
        "Y_train = train_data[:m,2].astype(np.int32)\n",
        "\n",
        "# # Reduce the size of the dataset for testing\n",
        "# m = 100000\n",
        "# X_train = X_train[:m]\n",
        "# Y_train = Y_train[:m]\n",
        "\n",
        "# OneHot encoding for the training data\n",
        "print(\"Start onehot encoding for the training data\")\n",
        "X_train = onehot_encoder(X_train)\n",
        "\n",
        "# Convert the data to a tensor\n",
        "X_train = th.from_numpy(X_train)\n",
        "Y_train = th.tensor(Y_train)\n",
        "\n",
        "print(\"X_train shape: \", X_train.shape)\n",
        "print(\"Y_train shape: \", Y_train.shape)\n",
        "\n",
        "# Free memory\n",
        "del train_csv, train_data, m\n",
        "\n",
        "# Validation Set\n",
        "\n",
        "# Read the input from the csv file\n",
        "val_csv = pd.read_csv(rel_path_val, sep=\",\")\n",
        "# Drop the NaN values\n",
        "val_csv = val_csv.dropna()\n",
        "# Describe the data\n",
        "val_csv.describe()\n",
        "\n",
        "val_data = val_csv.values\n",
        "# m = number of input samples\n",
        "m = val_data.shape[0]\n",
        "print(\"Amount of data:\",m)\n",
        "X_val = val_data[:m,1]\n",
        "Y_val = val_data[:m,2].astype(np.int32)\n",
        "\n",
        "# OneHot encoding for the validation data\n",
        "print(\"Start onehot encoding for the validation data\")\n",
        "X_val = onehot_encoder(X_val)\n",
        "\n",
        "X_val = th.from_numpy(X_val)\n",
        "Y_val = th.tensor(Y_val)\n",
        "\n",
        "print(\"X_val shape\", X_val.shape)\n",
        "print(\"Y_val shape\", Y_val.shape)\n",
        "\n",
        "# Free memory\n",
        "del val_csv, val_data, m\n",
        "\n",
        "# Test\n",
        "\n",
        "# Read the input from the csv file\n",
        "test_csv = pd.read_csv(rel_path_test, sep=\",\")\n",
        "# Drop the NaN values\n",
        "test_csv = test_csv.dropna()\n",
        "# Describe the data\n",
        "test_csv.describe()\n",
        "\n",
        "test_data = test_csv.values\n",
        "# m = number of input samples\n",
        "m = test_data.shape[0]\n",
        "print(\"Amount of data:\",m)\n",
        "X_test = test_data[:m,1]\n",
        "Y_test = test_data[:m,2].astype(np.int32)\n",
        "\n",
        "# OneHot encoding for the test data\n",
        "print(\"Start onehot encoding for the test data\")\n",
        "X_test = onehot_encoder(X_test)\n",
        "\n",
        "X_test = th.from_numpy(X_test)\n",
        "Y_test = th.tensor(Y_test)\n",
        "\n",
        "print(\"X_test shape\", X_test.shape)\n",
        "print(\"Y_test shape\", Y_test.shape)\n",
        "\n",
        "# Free memory\n",
        "del test_csv, test_data, m"
      ],
      "metadata": {
        "colab": {
          "base_uri": "https://localhost:8080/"
        },
        "id": "7gYkIfnYQRGU",
        "outputId": "ed75c9b0-7c08-43ce-e344-cd51fad6ab8b"
      },
      "execution_count": null,
      "outputs": [
        {
          "output_type": "stream",
          "name": "stdout",
          "text": [
            "Device:  cpu\n",
            "Amount of data: 87661\n",
            "Start onehot encoding for the training data\n",
            "X_train shape:  torch.Size([87661, 300, 4])\n",
            "Y_train shape:  torch.Size([87661])\n",
            "Amount of data: 26404\n",
            "Start onehot encoding for the validation data\n",
            "X_val shape torch.Size([26404, 300, 4])\n",
            "Y_val shape torch.Size([26404])\n",
            "Amount of data: 26404\n",
            "Start onehot encoding for the test data\n",
            "X_test shape torch.Size([26404, 300, 4])\n",
            "Y_test shape torch.Size([26404])\n"
          ]
        }
      ]
    },
    {
      "cell_type": "markdown",
      "source": [
        "Train the model"
      ],
      "metadata": {
        "id": "HSnStN2NQbRh"
      }
    },
    {
      "cell_type": "markdown",
      "source": [
        "#BRNN"
      ],
      "metadata": {
        "id": "TNo2speQLR5Q"
      }
    },
    {
      "cell_type": "markdown",
      "source": [
        "#Definition cross-entropy loss:\n",
        "\n",
        "\\begin{equation}\n",
        "{Loss} = - \\frac{1}{N} \\sum_{i=1}^{N} \\sum_{c=1}^{C} y_{i,c} \\log({p}_{i})\n",
        "\\end{equation}\n",
        "\n",
        "where:\n",
        "   Loss is the cross-entropy loss,\n",
        "   N is the number of samples,\n",
        "   C is the number of classes,\n",
        "   y_{i} is the binary indicator (0 or 1) if class label c is the correct classification for sample i,\n",
        "   p_{i} is the predicted probability that sample i belongs to class c."
      ],
      "metadata": {
        "id": "KuPAkE0nPAwD"
      }
    },
    {
      "cell_type": "code",
      "source": [
        "def cross_entropy_loss(predictions, targets):\n",
        "    \"\"\"\n",
        "    Calculate the cross-entropy loss manually.\n",
        "\n",
        "    Parameters:\n",
        "    - predictions (Tensor): The predicted probabilities (output from softmax).\n",
        "    - targets (Tensor): The true labels (as integers).\n",
        "\n",
        "    Returns:\n",
        "    - loss (Tensor): The cross-entropy loss.\n",
        "    \"\"\"\n",
        "    # Apply log softmax to predictions\n",
        "    log_softmax_preds = th.log(predictions)\n",
        "\n",
        "    # Select the log probabilities corresponding to the correct labels\n",
        "    selected_log_preds = log_softmax_preds[range(predictions.shape[0]), targets]\n",
        "\n",
        "    # Compute the negative mean of these values\n",
        "    loss = -th.mean(selected_log_preds)\n",
        "\n",
        "    return loss\n"
      ],
      "metadata": {
        "id": "pv8dBPbwPAkW"
      },
      "execution_count": null,
      "outputs": []
    },
    {
      "cell_type": "markdown",
      "source": [
        "#Define Adam Optimizer"
      ],
      "metadata": {
        "id": "go-dKYSaRHqK"
      }
    },
    {
      "cell_type": "code",
      "source": [
        "class AdamOptimizer:\n",
        "    def __init__(self, params, lr=0.001, betas=(0.9, 0.999), eps=1e-8):\n",
        "        self.params = list(params)\n",
        "        self.lr = lr\n",
        "        self.betas = betas\n",
        "        self.eps = eps\n",
        "        self.t = 0\n",
        "\n",
        "        # Initialize the first and second moment vectors\n",
        "        self.m = [th.zeros_like(p) for p in self.params]\n",
        "        self.v = [th.zeros_like(p) for p in self.params]\n",
        "\n",
        "    def zero_grad(self):\n",
        "        for param in self.params:\n",
        "            if param.grad is not None:\n",
        "                param.grad.detach_()\n",
        "                param.grad.zero_()\n",
        "\n",
        "    def step(self):\n",
        "        self.t += 1\n",
        "        beta1, beta2 = self.betas\n",
        "\n",
        "        for i, param in enumerate(self.params):\n",
        "            if param.grad is None:\n",
        "                continue\n",
        "\n",
        "            grad = param.grad.data\n",
        "            self.m[i] = beta1 * self.m[i] + (1 - beta1) * grad\n",
        "            self.v[i] = beta2 * self.v[i] + (1 - beta2) * grad**2\n",
        "\n",
        "            m_hat = self.m[i] / (1 - beta1**self.t)\n",
        "            v_hat = self.v[i] / (1 - beta2**self.t)\n",
        "\n",
        "            param.data -= self.lr * m_hat / (th.sqrt(v_hat) + self.eps)"
      ],
      "metadata": {
        "id": "nZy762qIQ9b6"
      },
      "execution_count": null,
      "outputs": []
    },
    {
      "cell_type": "markdown",
      "source": [
        "#Define the BRNN Model"
      ],
      "metadata": {
        "id": "1Haawbi9MDgL"
      }
    },
    {
      "cell_type": "code",
      "source": [
        "class BRNN(nn.Module):\n",
        "    def __init__(self, input_size, hidden_size, output_size, num_layers=1):\n",
        "        super(BRNN, self).__init__()\n",
        "        self.hidden_size = hidden_size\n",
        "        self.num_layers = num_layers\n",
        "\n",
        "        # Embedding layer (optional, useful for text data)\n",
        "        self.embedding = nn.Embedding(input_size, hidden_size)\n",
        "\n",
        "        # Bidirectional RNN layer\n",
        "        self.rnn = nn.RNN(hidden_size, hidden_size, num_layers, bidirectional=True, batch_first=True)\n",
        "\n",
        "        # Fully connected layer\n",
        "        self.fc = nn.Linear(hidden_size * 2, output_size)\n",
        "\n",
        "    def forward(self, x):\n",
        "        # x: (batch_size, seq_length)\n",
        "        x = self.embedding(x)  # x: (batch_size, seq_length, hidden_size)\n",
        "\n",
        "        # Initialize hidden state with zeros\n",
        "        h0 = th.zeros(self.num_layers * 2, x.size(0), self.hidden_size).to(x.device)  # 2 for bidirection\n",
        "\n",
        "        # Forward propagate RNN\n",
        "        out, _ = self.rnn(x, h0)  # out: (batch_size, seq_length, hidden_size * 2)\n",
        "\n",
        "        # Decode the hidden state of the last time step\n",
        "        out = self.fc(out[:, -1, :])  # out: (batch_size, output_size)\n",
        "\n",
        "        return out\n"
      ],
      "metadata": {
        "id": "h6e3SGSwLUOQ"
      },
      "execution_count": null,
      "outputs": []
    },
    {
      "cell_type": "markdown",
      "source": [
        "#Initialize the Model and optimizer\n",
        "\n",
        "\n"
      ],
      "metadata": {
        "id": "fqO7s7XSMMl0"
      }
    },
    {
      "cell_type": "code",
      "source": [
        "# Model parameters\n",
        "input_size = 10  # Vocabulary size\n",
        "hidden_size = 20\n",
        "output_size = 2  # Number of classes for classification\n",
        "num_layers = 1\n",
        "learning_rate = 0.001\n",
        "\n",
        "model = BRNN(input_size, hidden_size, output_size, num_layers)\n",
        "\n",
        "# Custom Adam optimizer\n",
        "optimizer = AdamOptimizer(model.parameters(), lr=learning_rate)"
      ],
      "metadata": {
        "id": "YhwX4a3zR4hN"
      },
      "execution_count": null,
      "outputs": []
    },
    {
      "cell_type": "markdown",
      "source": [
        "#Training with Validation"
      ],
      "metadata": {
        "id": "PkRHnXtBUk4b"
      }
    },
    {
      "cell_type": "code",
      "source": [
        "# Dummy data: batch_size x seq_length\n",
        "batch_size = 5\n",
        "seq_length = 7\n",
        "\n",
        "# Generate some random sequences (encoded as 0-3) and labels for training and validation\n",
        "data = th.randint(0, input_size, (batch_size, seq_length))\n",
        "labels = th.randint(0, output_size, (batch_size,))\n",
        "val_data = th.randint(0, input_size, (batch_size, seq_length))\n",
        "val_labels = th.randint(0, output_size, (batch_size,))\n",
        "\n",
        "# Lists to store the metrics\n",
        "train_losses = []\n",
        "val_losses = []\n",
        "val_accuracies = []"
      ],
      "metadata": {
        "id": "008n-ExCRv-R"
      },
      "execution_count": null,
      "outputs": []
    },
    {
      "cell_type": "markdown",
      "source": [
        "# Training Cross Entropy Loss and Adam Optimizer"
      ],
      "metadata": {
        "id": "RwUOIEJDSIJ-"
      }
    },
    {
      "cell_type": "code",
      "source": [
        "# Training loop with validation\n",
        "num_epochs = 100\n",
        "\n",
        "for epoch in range(num_epochs):\n",
        "    # Training phase\n",
        "    model.train()\n",
        "    optimizer.zero_grad()\n",
        "    outputs = model(data)\n",
        "    predictions = F.softmax(outputs, dim=1)\n",
        "    loss = cross_entropy_loss(predictions, labels)\n",
        "    loss.backward()\n",
        "    optimizer.step()\n",
        "\n",
        "    # Validation phase\n",
        "    model.eval()\n",
        "    with th.no_grad():\n",
        "        val_outputs = model(val_data)\n",
        "        val_predictions = F.softmax(val_outputs, dim=1)\n",
        "        val_loss = cross_entropy_loss(val_predictions, val_labels)\n",
        "\n",
        "        # Calculate accuracy\n",
        "        _, predicted = th.max(val_predictions, 1)\n",
        "        val_accuracy = (predicted == val_labels).float().mean().item()\n",
        "\n",
        "        # Store the metrics\n",
        "        train_losses.append(loss.item())\n",
        "        val_losses.append(val_loss.item())\n",
        "        val_accuracies.append(val_accuracy)\n",
        "\n",
        "    if (epoch+1) % 10 == 0:\n",
        "        print(f'Epoch [{epoch+1}/{num_epochs}], Loss: {loss.item():.4f}, Val Loss: {val_loss.item():.4f}, Val Accuracy: {val_accuracy:.4f}')\n"
      ],
      "metadata": {
        "id": "m8ny1384SGfk",
        "colab": {
          "base_uri": "https://localhost:8080/"
        },
        "outputId": "7477fb97-c443-437e-efb2-22ea322feb42"
      },
      "execution_count": null,
      "outputs": [
        {
          "output_type": "stream",
          "name": "stdout",
          "text": [
            "Epoch [10/100], Loss: 0.5360, Val Loss: 0.6629, Val Accuracy: 0.6000\n",
            "Epoch [20/100], Loss: 0.3304, Val Loss: 0.5795, Val Accuracy: 0.6000\n",
            "Epoch [30/100], Loss: 0.1944, Val Loss: 0.5232, Val Accuracy: 0.6000\n",
            "Epoch [40/100], Loss: 0.1110, Val Loss: 0.5021, Val Accuracy: 0.6000\n",
            "Epoch [50/100], Loss: 0.0646, Val Loss: 0.5107, Val Accuracy: 0.6000\n",
            "Epoch [60/100], Loss: 0.0405, Val Loss: 0.5376, Val Accuracy: 0.6000\n",
            "Epoch [70/100], Loss: 0.0279, Val Loss: 0.5732, Val Accuracy: 0.6000\n",
            "Epoch [80/100], Loss: 0.0207, Val Loss: 0.6107, Val Accuracy: 0.6000\n",
            "Epoch [90/100], Loss: 0.0162, Val Loss: 0.6469, Val Accuracy: 0.6000\n",
            "Epoch [100/100], Loss: 0.0132, Val Loss: 0.6808, Val Accuracy: 0.6000\n"
          ]
        }
      ]
    },
    {
      "cell_type": "markdown",
      "source": [
        "#Visualisation"
      ],
      "metadata": {
        "id": "TnBEMMUKU20m"
      }
    },
    {
      "cell_type": "code",
      "source": [
        "import matplotlib.pyplot as plt"
      ],
      "metadata": {
        "id": "l-kErSOxU5ii"
      },
      "execution_count": null,
      "outputs": []
    },
    {
      "cell_type": "code",
      "source": [
        "# Plot the metrics\n",
        "epochs = range(1, num_epochs + 1)\n",
        "\n",
        "plt.figure(figsize=(12, 4))\n",
        "plt.subplot(1, 2, 1)\n",
        "plt.plot(epochs, train_losses, label='Training Loss')\n",
        "plt.plot(epochs, val_losses, label='Validation Loss')\n",
        "plt.xlabel('Epochs')\n",
        "plt.ylabel('Loss')\n",
        "plt.title('Training and Validation Loss')\n",
        "plt.legend()\n",
        "\n",
        "plt.subplot(1, 2, 2)\n",
        "plt.plot(epochs, val_accuracies, label='Validation Accuracy')\n",
        "plt.xlabel('Epochs')\n",
        "plt.ylabel('Accuracy')\n",
        "plt.title('Validation Accuracy')\n",
        "plt.legend()\n",
        "\n",
        "plt.tight_layout()\n",
        "plt.show()"
      ],
      "metadata": {
        "id": "A1Fp8ukrU7MG",
        "colab": {
          "base_uri": "https://localhost:8080/",
          "height": 350
        },
        "outputId": "b493c9cc-edd1-40fa-9a5d-e3486faedfa5"
      },
      "execution_count": null,
      "outputs": [
        {
          "output_type": "display_data",
          "data": {
            "text/plain": [
              "<Figure size 1200x400 with 2 Axes>"
            ],
            "image/png": "[encoded data removed]"
          },
          "metadata": {}
        }
      ]
    }
  ]
}